{
 "cells": [
  {
   "cell_type": "code",
   "execution_count": null,
   "metadata": {},
   "outputs": [],
   "source": [
    "# Dev/Local -- restart ipynb env first\n",
    "import os\n",
    "\n",
    "os.environ[\"POSTGRES_DB_ENVIRONMENT\"] = \"DEV\"\n",
    "\n",
    "from reco_analysis.data_model import data_models\n",
    "\n",
    "session = data_models.get_session()\n",
    "engine = data_models.get_engine()\n",
    "assert \"localhost\" in str(engine.url)\n",
    "\n",
    "default_hcp = data_models.HealthcareProvider.create_default_healthcare_provider(session)\n",
    "print(default_hcp)"
   ]
  },
  {
   "cell_type": "code",
   "execution_count": 1,
   "metadata": {},
   "outputs": [
    {
     "name": "stderr",
     "output_type": "stream",
     "text": [
      "\u001b[32m2024-07-06 17:57:10.667\u001b[0m | \u001b[1mINFO    \u001b[0m | \u001b[36mreco_analysis.config\u001b[0m:\u001b[36m<module>\u001b[0m:\u001b[36m11\u001b[0m - \u001b[1mPROJ_ROOT path is: /Users/michaelenghoekhor/Documents/GitHub/reco/reco_analysis\u001b[0m\n"
     ]
    },
    {
     "name": "stdout",
     "output_type": "stream",
     "text": [
      "HealthcareProvider(id='6', first_name='Ray', last_name='ReCo', email='mike.khor@berkeley.edu', created_at='2024-07-06 09:57:14.744108', updated_at='2024-07-06 09:57:14.744108')\n"
     ]
    }
   ],
   "source": [
    "# Prod -- restart ipynb env first\n",
    "import os\n",
    "\n",
    "os.environ[\"POSTGRES_DB_ENVIRONMENT\"] = \"PROD\"\n",
    "\n",
    "from reco_analysis.data_model import data_models\n",
    "\n",
    "session = data_models.get_session()\n",
    "engine = data_models.get_engine()\n",
    "assert \"amazonaws\" in str(engine.url)\n",
    "\n",
    "default_hcp = data_models.HealthcareProvider.create_default_healthcare_provider(session)\n",
    "print(default_hcp)"
   ]
  }
 ],
 "metadata": {
  "kernelspec": {
   "display_name": "reco-analysis-vNTlTR5M-py3.11",
   "language": "python",
   "name": "python3"
  },
  "language_info": {
   "codemirror_mode": {
    "name": "ipython",
    "version": 3
   },
   "file_extension": ".py",
   "mimetype": "text/x-python",
   "name": "python",
   "nbconvert_exporter": "python",
   "pygments_lexer": "ipython3",
   "version": "3.11.7"
  }
 },
 "nbformat": 4,
 "nbformat_minor": 2
}
