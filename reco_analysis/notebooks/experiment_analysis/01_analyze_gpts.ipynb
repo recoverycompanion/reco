{
 "cells": [
  {
   "cell_type": "markdown",
   "metadata": {},
   "source": [
    "# Analyze Improvement Experiment 1: choosing between GPT versions\n",
    "\n",
    "Suffix used here: '_2307'\n",
    "\n",
    "GPT models used:\n",
    "- GPT 3.5\n",
    "- GPT 4o\n",
    "- GPT 4o-mini"
   ]
  },
  {
   "cell_type": "code",
   "execution_count": 25,
   "metadata": {},
   "outputs": [],
   "source": [
    "from pprint import pprint\n",
    "\n",
    "import pandas as pd\n",
    "import numpy as np\n",
    "import matplotlib.pyplot as plt\n",
    "from sklearn.metrics import accuracy_score, cohen_kappa_score, precision_score, recall_score, f1_score\n",
    "import seaborn as sns\n",
    "\n",
    "# Configure Matplotlib for inline display\n",
    "%matplotlib inline"
   ]
  },
  {
   "cell_type": "code",
   "execution_count": 50,
   "metadata": {},
   "outputs": [],
   "source": [
    "# Choose which llm-as-a-judge data to evaluate\n",
    "common_path = \"../../data/evaluations/transcripts/\"\n",
    "\n",
    "llm_judge_filepaths = {\n",
    "    \"GPT-3.5\": 'transcripts_eval_short_gpt3.5_basepat_basedoc_2307.csv',\n",
    "    \"GPT-4o\": 'transcripts_eval_short_gpt4o_basepat_basedoc_2307.csv',\n",
    "    \"GPT-4o-mini\": 'transcripts_eval_short_gpt4o-m_basepat_basedoc_2307.csv',\n",
    "}\n",
    "\n",
    "llm_judge_dfs = {\n",
    "    name: pd.read_csv(common_path + filepath).sort_values(by='transcript_number', ascending=False)\n",
    "    for name, filepath in llm_judge_filepaths.items()\n",
    "}\n",
    "\n",
    "# assert that the transcript numbers are exactly matched between all files\n",
    "total_set = set()\n",
    "for df in llm_judge_dfs.values():\n",
    "    total_set = total_set.union(set(df['transcript_number'].values))\n",
    "\n",
    "# for filepath, df in zip(llm_judge_filepaths, llm_judge_dfs):\n",
    "#     assert set(df['transcript_number'].values) == total_set, f\"Transcript numbers do not match for {filepath}\"\n",
    "\n",
    "# For now the transcript numbers are not matching -- maybe that's OK?"
   ]
  },
  {
   "cell_type": "code",
   "execution_count": 51,
   "metadata": {},
   "outputs": [
    {
     "name": "stdout",
     "output_type": "stream",
     "text": [
      "Column ankle_edema not found in the dataframe GPT-3.5\n",
      "Column ankle_edema not found in the dataframe GPT-4o\n",
      "Column ankle_edema not found in the dataframe GPT-4o-mini\n",
      "['dyspnea',\n",
      " 'pnd',\n",
      " 'orthopnea',\n",
      " 'nocturnal_cough',\n",
      " 'chest_pain',\n",
      " 'fatigue',\n",
      " 'worsening_mental_status',\n",
      " 'temperature',\n",
      " 'heart_rate',\n",
      " 'respiratory_rate',\n",
      " 'oxygen_saturation',\n",
      " 'blood_pressure',\n",
      " 'weight',\n",
      " 'doctor_ask_medications',\n",
      " 'sympathetic_patient',\n",
      " 'reminder',\n",
      " 'end_conversation',\n",
      " 'no_premature_end',\n",
      " 'natural_conversation']\n"
     ]
    }
   ],
   "source": [
    "# Which columns to use for evaluation?\n",
    "\n",
    "question_categories = {\n",
    "    \"symptoms\": [\"dyspnea\", \"pnd\", \"orthopnea\", \"ankle_edema\", \"nocturnal_cough\", \"chest_pain\", \"fatigue\", \"worsening_mental_status\"],\n",
    "    \"vitals\": [\"temperature\", \"heart_rate\", \"respiratory_rate\", \"oxygen_saturation\", \"blood_pressure\", \"weight\"],\n",
    "    \"medications\": [\"doctor_ask_medications\"],\n",
    "    \"hcp_quality\": [\"sympathetic_patient\", \"reminder\", \"end_conversation\", \"no_premature_end\", \"natural_conversation\"],\n",
    "    \"patient_quality\": [\"plain_language\", \"consistent_symptoms\", \"no_confabulations\", \"allow_doctor_questions\"],\n",
    "}\n",
    "\n",
    "# skip patient quality questions\n",
    "feature_columns = [  # infer from question_categories\n",
    "    *question_categories[\"symptoms\"], *question_categories[\"vitals\"], *question_categories[\"medications\"], *question_categories[\"hcp_quality\"]\n",
    "]\n",
    "\n",
    "# assert that all columns are present in the dataframes\n",
    "cols_to_drop = []\n",
    "for name, df in llm_judge_dfs.items():\n",
    "    for col in feature_columns:\n",
    "        if not col in df.columns:\n",
    "            print(f\"Column {col} not found in the dataframe {name}\")\n",
    "\n",
    "            # for now, just drop the column\n",
    "            cols_to_drop.append(col)\n",
    "\n",
    "feature_columns = [col for col in feature_columns if col not in cols_to_drop]\n",
    "for cat, cols in question_categories.items():\n",
    "    question_categories[cat] = [col for col in cols if col not in cols_to_drop]\n",
    "\n",
    "pprint(feature_columns)"
   ]
  },
  {
   "cell_type": "code",
   "execution_count": 73,
   "metadata": {},
   "outputs": [
    {
     "data": {
      "text/html": [
       "<div>\n",
       "<style scoped>\n",
       "    .dataframe tbody tr th:only-of-type {\n",
       "        vertical-align: middle;\n",
       "    }\n",
       "\n",
       "    .dataframe tbody tr th {\n",
       "        vertical-align: top;\n",
       "    }\n",
       "\n",
       "    .dataframe thead th {\n",
       "        text-align: right;\n",
       "    }\n",
       "</style>\n",
       "<table border=\"1\" class=\"dataframe\">\n",
       "  <thead>\n",
       "    <tr style=\"text-align: right;\">\n",
       "      <th></th>\n",
       "      <th>symptoms</th>\n",
       "      <th>vitals</th>\n",
       "      <th>medications</th>\n",
       "      <th>hcp_quality</th>\n",
       "    </tr>\n",
       "  </thead>\n",
       "  <tbody>\n",
       "    <tr>\n",
       "      <th>GPT-3.5</th>\n",
       "      <td>0.864286</td>\n",
       "      <td>0.958333</td>\n",
       "      <td>1.00</td>\n",
       "      <td>0.84</td>\n",
       "    </tr>\n",
       "    <tr>\n",
       "      <th>GPT-4o</th>\n",
       "      <td>1.000000</td>\n",
       "      <td>1.000000</td>\n",
       "      <td>1.00</td>\n",
       "      <td>0.98</td>\n",
       "    </tr>\n",
       "    <tr>\n",
       "      <th>GPT-4o-mini</th>\n",
       "      <td>0.807143</td>\n",
       "      <td>0.766667</td>\n",
       "      <td>0.75</td>\n",
       "      <td>0.63</td>\n",
       "    </tr>\n",
       "  </tbody>\n",
       "</table>\n",
       "</div>"
      ],
      "text/plain": [
       "             symptoms    vitals  medications  hcp_quality\n",
       "GPT-3.5      0.864286  0.958333         1.00         0.84\n",
       "GPT-4o       1.000000  1.000000         1.00         0.98\n",
       "GPT-4o-mini  0.807143  0.766667         0.75         0.63"
      ]
     },
     "execution_count": 73,
     "metadata": {},
     "output_type": "execute_result"
    }
   ],
   "source": [
    "# Data transformation: calculate the average score for each question category. Save this to a new dataframe.\n",
    "\n",
    "llm_judge_avg_series = {}  # key: filepath, value: avg_df\n",
    "\n",
    "for name, df in llm_judge_dfs.items():\n",
    "    averages = {}  # key: category, value: average score (float)\n",
    "    for category, columns in question_categories.items():\n",
    "        if category == \"patient_quality\":\n",
    "            continue  # skip patient quality questions\n",
    "        averages[category] = df[columns].mean().mean()\n",
    "\n",
    "    llm_judge_avg_series[name] = pd.Series(averages, name=name)\n",
    "\n",
    "llm_judge_avg_df = pd.DataFrame(llm_judge_avg_series).T\n",
    "llm_judge_avg_df"
   ]
  },
  {
   "cell_type": "code",
   "execution_count": 75,
   "metadata": {},
   "outputs": [
    {
     "name": "stderr",
     "output_type": "stream",
     "text": [
      "/var/folders/qp/hy557z1d5_5ckqwp_fxv8j440000gn/T/ipykernel_91558/3043273115.py:17: UserWarning: set_ticklabels() should only be used with a fixed number of ticks, i.e. after set_ticks() or using a FixedLocator.\n",
      "  ax.set_xticklabels([cat.replace(\"_\", \" \").capitalize() for cat in question_categories.keys()])\n"
     ]
    },
    {
     "data": {
      "image/png": "[encoded data removed]",
      "text/plain": [
       "<Figure size 600x500 with 1 Axes>"
      ]
     },
     "metadata": {},
     "output_type": "display_data"
    }
   ],
   "source": [
    "# make a bar plot of the average scores\n",
    "\n",
    "# transform the dataframe for plotting\n",
    "llm_judge_avg_df_melt = llm_judge_avg_df.reset_index().melt(id_vars='index', var_name='category', value_name='average_score')\n",
    "\n",
    "fig, ax = plt.subplots(figsize=(6, 5))\n",
    "sns.barplot(data=llm_judge_avg_df_melt, x='category', y='average_score', hue='index', ax=ax, palette='tab10')\n",
    "\n",
    "# legend off to the side\n",
    "plt.legend(loc='center left', bbox_to_anchor=(1.0, 0.5))\n",
    "plt.gca().get_legend().get_frame().set_linewidth(0.0)\n",
    "\n",
    "# remove top and right borders\n",
    "sns.despine()\n",
    "\n",
    "# Capitalize the category names\n",
    "ax.set_xticklabels([cat.replace(\"_\", \" \").capitalize() for cat in question_categories.keys()])\n",
    "\n",
    "ax.set_ylabel(\"Average Score\")\n",
    "ax.set_xlabel(\"Question Category\");"
   ]
  }
 ],
 "metadata": {
  "kernelspec": {
   "display_name": "reco-analysis-vNTlTR5M-py3.11",
   "language": "python",
   "name": "python3"
  },
  "language_info": {
   "codemirror_mode": {
    "name": "ipython",
    "version": 3
   },
   "file_extension": ".py",
   "mimetype": "text/x-python",
   "name": "python",
   "nbconvert_exporter": "python",
   "pygments_lexer": "ipython3",
   "version": "3.11.7"
  }
 },
 "nbformat": 4,
 "nbformat_minor": 2
}
