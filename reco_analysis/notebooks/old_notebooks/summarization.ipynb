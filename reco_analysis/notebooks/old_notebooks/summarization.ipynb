{
 "cells": [
  {
   "cell_type": "markdown",
   "metadata": {},
   "source": [
    "# Import and Setup"
   ]
  },
  {
   "cell_type": "code",
   "execution_count": 2,
   "metadata": {},
   "outputs": [],
   "source": [
    "# Import necessary libraries\n",
    "import os\n",
    "import json\n",
    "import random\n",
    "from dotenv import load_dotenv\n",
    "from langchain import LLMChain\n",
    "from langchain_openai import ChatOpenAI\n",
    "from langchain.prompts import ChatPromptTemplate\n",
    "from langchain.schema.output_parser import StrOutputParser\n",
    "from langchain_openai import ChatOpenAI"
   ]
  },
  {
   "cell_type": "code",
   "execution_count": 3,
   "metadata": {},
   "outputs": [],
   "source": [
    "# Load API keys from .env file\n",
    "# Replace this with the path to where your .env file is, which should contain openAI API keys as well as other necessary environment variables\n",
    "# Env file should contain something like this:\n",
    "# OPENAI_API_KEY=your openai api key\n",
    "# OPENAI_ORG_ID=your org id\n",
    "# LANGCHAIN_TRACING_V2='true'\n",
    "# LANGCHAIN_ENDPOINT=\"https://api.smith.langchain.com\"\n",
    "# LANGCHAIN_API_KEY=your langchain api key\n",
    "# LANGCHAIN_PROJECT=the project name you want to use\n",
    "load_dotenv(\"../.env\") \n",
    "\n",
    "# Set environment variables for LangChain\n",
    "os.environ[\"LANGCHAIN_TRACING_V2\"] = os.getenv(\"LANGCHAIN_TRACING_V2\")\n",
    "os.environ[\"LANGCHAIN_ENDPOINT\"] = os.getenv(\"LANGCHAIN_ENDPOINT\")\n",
    "os.environ[\"LANGCHAIN_API_KEY\"] = os.getenv(\"LANGCHAIN_API_KEY\")\n",
    "os.environ[\"LANGCHAIN_PROJECT\"] = os.getenv(\"LANGCHAIN_PROJECT\")\n",
    "os.environ[\"OPENAI_API_KEY\"] = os.getenv(\"OPENAI_API_KEY\")"
   ]
  },
  {
   "cell_type": "code",
   "execution_count": 4,
   "metadata": {},
   "outputs": [],
   "source": [
    "# Set up the OpenAI model\n",
    "model = ChatOpenAI(temperature=0.7, model_name='gpt-3.5-turbo')"
   ]
  },
  {
   "cell_type": "code",
   "execution_count": 5,
   "metadata": {},
   "outputs": [],
   "source": [
    "### Key setup variables\n",
    "\n",
    "transcripts_version = 1.0"
   ]
  },
  {
   "cell_type": "markdown",
   "metadata": {},
   "source": [
    "# System Prompts"
   ]
  },
  {
   "cell_type": "code",
   "execution_count": 6,
   "metadata": {},
   "outputs": [],
   "source": [
    "system_message_doctor = \"\"\"System message: \n",
    "You are a virtual doctor interacting with heart failure patients who have recently been discharged from the hospital. Your goal is to monitor their recovery by asking specific questions about their symptoms, vitals, and medications. Ensure the conversation is empathetic, providing clear information about their recovery process. \n",
    "\n",
    "When interacting with patients, inquire about the following topics in order:\n",
    "\n",
    "Topic 1: Introduction and Open-Ended Symptom Inquiry\n",
    "   - Greeting and Context: \"Hello, I'm here to check on how you're feeling today. Let's go over how you've been doing since your discharge.\"\n",
    "   - Open-Ended Question: \"Can you tell me how you've been feeling today? Have you noticed any new or worsening symptoms?\"\n",
    "\n",
    "Topic 2: Current Symptoms\n",
    "   - Follow-Up Questions:\n",
    "     - Dyspnea: \"Have you experienced any shortness of breath? If yes, does it occur at rest, when walking, or when climbing stairs?\"\n",
    "     - Paroxysmal Nocturnal Dyspnea (PND): \"Have you had sudden shortness of breath that wakes you up at night?\"\n",
    "     - Orthopnea: \"Do you need to prop yourself up with pillows to breathe comfortably while lying down?\"\n",
    "     - Edema: \"Have you noticed any swelling in your ankles or legs?\"\n",
    "     - Nocturnal Cough: \"Are you experiencing a cough, especially at night?\"\n",
    "     - Chest Pain: \"Have you had any chest pain recently?\"\n",
    "     - Fatigue and Mental Status: \"Do you feel more tired than usual or have you experienced any sudden changes in your mental clarity?\"\n",
    "\n",
    "Topic 3: Vital Signs\n",
    "   - Request Current Vitals: \"Could you please provide your latest vital signs? These include temperature, heart rate, respiratory rate, oxygen saturation, blood pressure, and weight.\"\n",
    "\n",
    "Topic 4: Current Medications\n",
    "   - Medication Inquiry: \"Let's review the medications you are currently taking. Are you on any of the following? Please confirm or list any other medications you are taking.\"\n",
    "     - ACE inhibitors (ACEi)\n",
    "     - Angiotensin II Receptor Blockers (ARB)\n",
    "     - Angiotensin receptor/neprilysin inhibitor (ARNI)\n",
    "     - Beta-Blockers (BB)\n",
    "     - Diuretics, Thiazide diuretics, Loop diuretics\n",
    "     - Mineralocorticoid Receptor Antagonists (MRA)\n",
    "     - Hydralazine\n",
    "     - Nitrate medications\n",
    "     - Ivabradine\n",
    "     - SGLT2 inhibitors\n",
    "     - GLP-1 agonists\n",
    "\n",
    "Topic 5: Goodbye\n",
    "   - Thank the patient for their time, encourage them to continue monitoring their recovery closely, and say goodbye.\n",
    "\n",
    "Once you have covered a topic, do not revisit it unless the patient offers new information.\n",
    "\n",
    "Throughout the conversation, maintain a patient-specific and empathetic tone:\n",
    "   - Recovery Overview: \"Based on your responses, here's an overview of where you are in your recovery and what you can expect in the coming days and weeks. It's important to continue monitoring your symptoms and adhering to your medication regimen.\"\n",
    "   - Empathy and Support: \"I'm sorry to hear you're experiencing [specific symptom]. It's important we address this to ensure your recovery continues smoothly. How can I further assist you today?\"\n",
    "   - Reminder: \"Please remember to contact your healthcare provider if you notice any significant changes or worsening of symptoms.\"\"\""
   ]
  },
  {
   "cell_type": "code",
   "execution_count": 7,
   "metadata": {},
   "outputs": [],
   "source": [
    "system_message_summarize_detailed = \"\"\"\n",
    "\n",
    "You are a medical assistant tasked with reviewing a transcript of a conversation between a patient and their doctor. You will be provided a transcript. The doctor has asked you to write up a summary of the transcript in the format outlined below. Include section headings and use bullet points. Add context to symptoms where appropriate, but be brief. List specific medications by name under the appropriate medication category. Do not add any information that is not present in the transcript.\n",
    "\n",
    "Patient Introduction:\n",
    "    - Write a one sentence summary including the patient's name and their primary symptom or chief complaint\n",
    "\n",
    "Current Symptoms (Note: Determine which are present and not present):\n",
    "        - Dyspnea\n",
    "        - Paroxysmal Nocturnal Dyspnea (PND)\n",
    "        - Orthopnea\n",
    "        - Edema\n",
    "        - Nocturnal Cough\n",
    "        - Chest Pain\n",
    "        - Fatigue and Mental Status\n",
    "\n",
    "Vital Signs\n",
    "     - Temperature (in Farenheit): \n",
    "     - Heart Rate (in BPM): \n",
    "     - Respiratory Rate (in breaths per minute):\n",
    "     - Oxygen Saturation: \n",
    "     - Blood Pressure: \n",
    "     - Weight (in lbs): \n",
    "\n",
    "Current Medications:\n",
    "     - List the medications the patient is taking\n",
    "\n",
    "Summary:\n",
    "     - Write a one or two sentence summary of the conversation. Avoid making any diagnoses; just report facts.\n",
    "\n",
    "\"\"\""
   ]
  },
  {
   "cell_type": "code",
   "execution_count": 8,
   "metadata": {},
   "outputs": [],
   "source": [
    "system_message_summarize_simple = \"\"\"\n",
    "\n",
    "You are a medical assistant tasked with reviewing a transcript of a conversation between a patient and their doctor. You will be provided a transcript. The doctor has asked you to write up a summary of the transcript in the format outlined below. Include section headings and use bullet points. Add context to symptoms where appropriate, but be brief. List specific medications by name under the appropriate medication category.\n",
    "\n",
    "Patient Overview:\n",
    "    - Write a one sentence summary including the patient's name and their primary symptom or chief complaint\n",
    "\n",
    "Current Symptoms (Note: Determine which are present and not present)\n",
    "\n",
    "Vital Signs\n",
    "\n",
    "Current Medications:\n",
    "\n",
    "\"\"\""
   ]
  },
  {
   "cell_type": "markdown",
   "metadata": {},
   "source": [
    "# Load Transcripts Data"
   ]
  },
  {
   "cell_type": "code",
   "execution_count": 9,
   "metadata": {},
   "outputs": [],
   "source": [
    "## Load patient data\n",
    "\n",
    "# Specify the path to your JSON file\n",
    "json_file_path = f\"../data/patients/patients_{transcripts_version}_with_transcripts.json\"\n",
    "\n",
    "# Open and read the JSON file\n",
    "with open(json_file_path, 'r') as json_file:\n",
    "    patients = json.load(json_file)"
   ]
  },
  {
   "cell_type": "code",
   "execution_count": 10,
   "metadata": {},
   "outputs": [],
   "source": [
    "random_key = random.choice(list(patients.keys()))"
   ]
  },
  {
   "cell_type": "code",
   "execution_count": 11,
   "metadata": {},
   "outputs": [],
   "source": [
    "patient_transcript = patients[random_key]['chat_transcript']\n",
    "\n",
    "#for line in patient_transcript:\n",
    "#    print(line)"
   ]
  },
  {
   "cell_type": "code",
   "execution_count": 12,
   "metadata": {},
   "outputs": [],
   "source": [
    "patient_transcript_string = \"\"\n",
    "\n",
    "for line in patient_transcript:\n",
    "    patient_transcript_string = patient_transcript_string + line"
   ]
  },
  {
   "cell_type": "markdown",
   "metadata": {},
   "source": [
    "# Generate Summary"
   ]
  },
  {
   "cell_type": "code",
   "execution_count": 13,
   "metadata": {},
   "outputs": [],
   "source": [
    "parser = StrOutputParser()"
   ]
  },
  {
   "cell_type": "code",
   "execution_count": 14,
   "metadata": {},
   "outputs": [],
   "source": [
    "prompt_template = ChatPromptTemplate.from_messages(\n",
    "    [(\"system\", system_message_summarize_detailed), (\"user\", patient_transcript)]\n",
    ")"
   ]
  },
  {
   "cell_type": "code",
   "execution_count": 15,
   "metadata": {},
   "outputs": [],
   "source": [
    "chain = prompt_template | model | parser"
   ]
  },
  {
   "cell_type": "code",
   "execution_count": 16,
   "metadata": {},
   "outputs": [],
   "source": [
    "result = chain.invoke({\"system\": system_message_summarize_detailed, \"text\": patient_transcript})"
   ]
  },
  {
   "cell_type": "code",
   "execution_count": 17,
   "metadata": {},
   "outputs": [
    {
     "name": "stdout",
     "output_type": "stream",
     "text": [
      "Patient Introduction:\n",
      "- The patient is Anthony Reed, presenting with shortness of breath with activity.\n",
      "\n",
      "Current Symptoms:\n",
      "- Dyspnea\n",
      "- Nocturnal Dyspnea\n",
      "- Orthopnea (implied by needing an extra pillow while lying down)\n",
      "- Edema (denied)\n",
      "- Nocturnal Cough (denied)\n",
      "- Chest Pain (denied)\n",
      "- Fatigue and Mental Status changes (mild fatigue reported, mental status stable)\n",
      "\n",
      "Vital Signs\n",
      "- Temperature: 100.0°F\n",
      "- Heart Rate: 87 BPM\n",
      "- Respiratory Rate: 21 breaths per minute\n",
      "- Oxygen Saturation: 96.0%\n",
      "- Blood Pressure: 157/98\n",
      "- Weight: Not provided\n",
      "\n",
      "Current Medications:\n",
      "- Losartan\n",
      "- Fish Oil\n",
      "- Aspirin\n",
      "\n",
      "Summary:\n",
      "Anthony Reed reports experiencing shortness of breath with activity but denies other symptoms like swelling, cough, or chest pain. Vital signs are stable within normal range, and he is currently taking Losartan, Fish Oil, and Aspirin. Follow-up advised if there are any concerns or changes in health.\n"
     ]
    }
   ],
   "source": [
    "print(result)"
   ]
  }
 ],
 "metadata": {
  "kernelspec": {
   "display_name": "reco-analysis-opEH7KmU-py3.11",
   "language": "python",
   "name": "python3"
  },
  "language_info": {
   "codemirror_mode": {
    "name": "ipython",
    "version": 3
   },
   "file_extension": ".py",
   "mimetype": "text/x-python",
   "name": "python",
   "nbconvert_exporter": "python",
   "pygments_lexer": "ipython3",
   "version": "3.11.7"
  }
 },
 "nbformat": 4,
 "nbformat_minor": 2
}
