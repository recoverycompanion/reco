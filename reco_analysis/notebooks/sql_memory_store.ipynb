{
 "cells": [
  {
   "cell_type": "markdown",
   "metadata": {},
   "source": [
    "# Storing Memory in a Postgres SQL DB\n",
    "\n",
    "Langchain message history is now stored as an in-memory dict. Let's store it in a SQL database instead."
   ]
  },
  {
   "cell_type": "code",
   "execution_count": 2,
   "metadata": {},
   "outputs": [
    {
     "name": "stdout",
     "output_type": "stream",
     "text": [
      "\u001b[34m==>\u001b[0m \u001b[1mTapping homebrew/services\u001b[0m\n",
      "Cloning into '/usr/local/Homebrew/Library/Taps/homebrew/homebrew-services'...\n",
      "remote: Enumerating objects: 2969, done.\u001b[K\n",
      "remote: Counting objects: 100% (430/430), done.\u001b[K\n",
      "remote: Compressing objects: 100% (148/148), done.\u001b[K\n",
      "remote: Total 2969 (delta 303), reused 333 (delta 280), pack-reused 2539\u001b[K\n",
      "\u001b[KReceiving objects: 100% (2969/2969), 821.58 KiB | 7.54 MiB/s, done.\n",
      "\u001b[KResolving deltas: 100% (1444/1444), done.\n",
      "Tapped 1 command (48 files, 1010.4KB).\n",
      "\u001b[33mWarning:\u001b[0m Formula postgresql was renamed to postgresql@14.\n",
      "\u001b[34m==>\u001b[0m \u001b[1mSuccessfully started `postgresql@14` (label: homebrew.mxcl.postgresql@14)\u001b[0m\n"
     ]
    }
   ],
   "source": [
    "# First install postgres then start the service (MacOS)\n",
    "!brew install postgresql\n",
    "!brew services start postgresql\n",
    "\n",
    "# To stop\n",
    "# !brew services stop postgresql"
   ]
  },
  {
   "cell_type": "code",
   "execution_count": null,
   "metadata": {},
   "outputs": [],
   "source": [
    "# For linux\n",
    "!sudo apt update\n",
    "!sudo apt install postgresql postgresql-contrib\n",
    "\n",
    "# to start\n",
    "# !sudo service postgresql start\n",
    "\n",
    "# to stop\n",
    "# !sudo service postgresql stop"
   ]
  },
  {
   "cell_type": "code",
   "execution_count": null,
   "metadata": {},
   "outputs": [],
   "source": [
    "!pip install psycopg2\n",
    "# or\n",
    "!poetry add psycopg2"
   ]
  },
  {
   "cell_type": "code",
   "execution_count": 5,
   "metadata": {},
   "outputs": [
    {
     "name": "stdout",
     "output_type": "stream",
     "text": [
      "psql: error: connection to server on socket \"/tmp/.s.PGSQL.5432\" failed: FATAL:  database \"michaelenghoekhor\" does not exist\n"
     ]
    }
   ],
   "source": [
    "# create role then database\n",
    "!psql postgres\n",
    "\n",
    "# Then run the following commands in the psql shell\n",
    "# CREATE ROLE reco_admin WITH LOGIN PASSWORD 'averysecurepasswordthatyouwillneverguess';\n",
    "# ALTER ROLE reco_admin CREATEDB;\n",
    "\n",
    "\n",
    "# Exit the psql shell then login\n",
    "# \\q\n",
    "# psql -d postgres -U reco_admin\n",
    "# \\du\n",
    "# CREATE DATABASE reco WITH OWNER reco_admin ENCODING 'UTF8';\n",
    "# \\c reco\n",
    "# \\q"
   ]
  },
  {
   "cell_type": "code",
   "execution_count": null,
   "metadata": {},
   "outputs": [],
   "source": [
    "# To nuke the entire database\n",
    "# DROP DATABASE reco;"
   ]
  },
  {
   "cell_type": "code",
   "execution_count": 7,
   "metadata": {},
   "outputs": [
    {
     "name": "stdout",
     "output_type": "stream",
     "text": [
      "Requirement already satisfied: sqlalchemy in /Users/michaelenghoekhor/Library/Caches/pypoetry/virtualenvs/reco-analysis-vNTlTR5M-py3.11/lib/python3.11/site-packages (2.0.31)\n",
      "Requirement already satisfied: psycopg2 in /Users/michaelenghoekhor/Library/Caches/pypoetry/virtualenvs/reco-analysis-vNTlTR5M-py3.11/lib/python3.11/site-packages (2.9.9)\n",
      "Requirement already satisfied: typing-extensions>=4.6.0 in /Users/michaelenghoekhor/Library/Caches/pypoetry/virtualenvs/reco-analysis-vNTlTR5M-py3.11/lib/python3.11/site-packages (from sqlalchemy) (4.12.2)\n",
      "\n",
      "\u001b[1m[\u001b[0m\u001b[34;49mnotice\u001b[0m\u001b[1;39;49m]\u001b[0m\u001b[39;49m A new release of pip is available: \u001b[0m\u001b[31;49m24.0\u001b[0m\u001b[39;49m -> \u001b[0m\u001b[32;49m24.1\u001b[0m\n",
      "\u001b[1m[\u001b[0m\u001b[34;49mnotice\u001b[0m\u001b[1;39;49m]\u001b[0m\u001b[39;49m To update, run: \u001b[0m\u001b[32;49mpip install --upgrade pip\u001b[0m\n"
     ]
    }
   ],
   "source": [
    "# pip install\n",
    "!pip install sqlalchemy\n",
    "!pip install psycopg2-binary\n",
    "!export LDFLAGS=\"-L/usr/local/lib\"\n",
    "!export CPPFLAGS=\"-I/usr/local/include\""
   ]
  },
  {
   "cell_type": "code",
   "execution_count": 1,
   "metadata": {},
   "outputs": [
    {
     "name": "stderr",
     "output_type": "stream",
     "text": [
      "/var/folders/qp/hy557z1d5_5ckqwp_fxv8j440000gn/T/ipykernel_64525/1837471835.py:13: MovedIn20Warning: The ``declarative_base()`` function is now available as sqlalchemy.orm.declarative_base(). (deprecated since: 2.0) (Background on SQLAlchemy 2.0 at: https://sqlalche.me/e/b8d9)\n",
      "  Base = declarative_base()\n"
     ]
    }
   ],
   "source": [
    "from sqlalchemy import Text, create_engine, Column, Integer, String, DateTime, ForeignKey, func\n",
    "from sqlalchemy.ext.declarative import declarative_base\n",
    "from sqlalchemy.orm import sessionmaker, relationship\n",
    "\n",
    "import typing\n",
    "from langchain_community.chat_message_histories import SQLChatMessageHistory\n",
    "from langchain_community.chat_message_histories.sql import DefaultMessageConverter\n",
    "from langchain_core.messages import BaseMessage, message_to_dict\n",
    "from sqlalchemy import create_engine\n",
    "import json\n",
    "\n",
    "\n",
    "Base = declarative_base()\n",
    "\n",
    "class User(Base):\n",
    "    __tablename__ = 'users'\n",
    "\n",
    "    id = Column(Integer, primary_key=True)\n",
    "    username = Column(String(50), unique=True, nullable=False)\n",
    "    first_name = Column(String(50), nullable=False)\n",
    "    last_name = Column(String(50), nullable=False)\n",
    "\n",
    "    # Relationship to enable user.messages backref\n",
    "    messages = relationship(\"Message\", back_populates=\"user\")\n",
    "\n",
    "class Message(Base):\n",
    "    __tablename__ = 'message_store'\n",
    "\n",
    "    id = Column(Integer, primary_key=True)\n",
    "    session_id = Column(String(36), index=True, nullable=False)  # UUID format for session_id\n",
    "    user_id = Column(Integer, ForeignKey('users.id'), nullable=False)\n",
    "    # typical message is quite long, and we have to account for worst case\n",
    "    message = Column(Text, nullable=False)\n",
    "    timestamp = Column(DateTime, server_default=func.now())\n",
    "\n",
    "    # Relationship to link back to the User\n",
    "    user = relationship(\"User\", back_populates=\"messages\")\n",
    "\n",
    "    def __repr__(self):\n",
    "        return f\"Message('{self.session_id}', '{self.user_id}', '{self.message}', '{self.timestamp}')\"\n",
    "\n",
    "\n",
    "# Engine setup (change for your PostgreSQL setup)\n",
    "USER = 'reco_admin'\n",
    "PASSWORD = 'averysecurepasswordthatyouwillneverguess'\n",
    "HOST = 'localhost'\n",
    "PORT = '5432'\n",
    "DB = 'reco'\n",
    "DB_URL = f'postgresql://{USER}:{PASSWORD}@{HOST}:{PORT}/{DB}'\n",
    "engine = create_engine(DB_URL)"
   ]
  },
  {
   "cell_type": "code",
   "execution_count": 2,
   "metadata": {},
   "outputs": [],
   "source": [
    "Base.metadata.create_all(engine)  # this will create the tables. run this only once"
   ]
  },
  {
   "cell_type": "code",
   "execution_count": 3,
   "metadata": {},
   "outputs": [],
   "source": [
    "# To create a new session\n",
    "Session = sessionmaker(bind=engine)\n",
    "session = Session()"
   ]
  },
  {
   "cell_type": "code",
   "execution_count": 4,
   "metadata": {},
   "outputs": [
    {
     "name": "stdout",
     "output_type": "stream",
     "text": [
      "{\"type\": \"ai\", \"data\": {\"content\": \"Hello, I am a bot\", \"additional_kwargs\": {}, \"response_metadata\": {}, \"type\": \"ai\", \"name\": null, \"id\": null, \"example\": false, \"tool_calls\": [], \"invalid_tool_calls\": [], \"usage_metadata\": null}}\n"
     ]
    }
   ],
   "source": [
    "# Test case: Add a new user and a message\n",
    "new_user = User(username=\"johndoe\", first_name=\"John\", last_name=\"Doe\")\n",
    "try:\n",
    "    session.add(new_user)\n",
    "    session.commit()\n",
    "except Exception as e:\n",
    "    print(f\"Error: {e}\")\n",
    "    session.rollback()\n",
    "    new_user = session.query(User).filter_by(username=\"johndoe\").first()\n",
    "\n",
    "\n",
    "msg_text = '{\"type\": \"ai\", \"data\": {\"content\": \"Hello, I am a bot\", \"additional_kwargs\": {}, \"response_metadata\": {}, \"type\": \"ai\", \"name\": null, \"id\": null, \"example\": false, \"tool_calls\": [], \"invalid_tool_calls\": [], \"usage_metadata\": null}}'\n",
    "new_message = Message(session_id=\"123e4567-e89b-12d3-a456-426614174000\", user_id=new_user.id, message=msg_text)\n",
    "session.add(new_message)\n",
    "session.commit()\n",
    "\n",
    "# Query the database\n",
    "user = session.query(User).filter_by(username=\"johndoe\").first()\n",
    "print(user.messages[0].message)\n"
   ]
  },
  {
   "cell_type": "code",
   "execution_count": 8,
   "metadata": {},
   "outputs": [
    {
     "name": "stdout",
     "output_type": "stream",
     "text": [
      "Message('123e4567-e89b-12d3-a456-426614174000', '1', '{\"type\": \"ai\", \"data\": {\"content\": \"Hello, I am a bot\", \"additional_kwargs\": {}, \"response_metadata\": {}, \"type\": \"ai\", \"name\": null, \"id\": null, \"example\": false, \"tool_calls\": [], \"invalid_tool_calls\": [], \"usage_metadata\": null}}', '2024-06-24 00:46:56.273769')\n"
     ]
    }
   ],
   "source": [
    "print(user.messages[0])"
   ]
  },
  {
   "cell_type": "code",
   "execution_count": 11,
   "metadata": {},
   "outputs": [],
   "source": [
    "# Now connecting to LangChain\n",
    "\n",
    "class CustomMessageConverter(DefaultMessageConverter):\n",
    "    def __init__(self, user_id: int = None):\n",
    "        self.user_id = user_id\n",
    "        self.model_class = Message\n",
    "\n",
    "    def to_sql_model(self, message: BaseMessage, session_id: str) -> typing.Dict:\n",
    "        return self.model_class(\n",
    "            session_id=session_id,\n",
    "            user_id=self.user_id,\n",
    "            message=json.dumps(message_to_dict(message))\n",
    "        )\n",
    "\n",
    "    def get_sql_model_class(self):\n",
    "        return Message\n",
    "\n",
    "\n",
    "def get_session_history(session_id, user_id):\n",
    "    return SQLChatMessageHistory(\n",
    "        session_id=session_id, connection=engine,\n",
    "        custom_message_converter=CustomMessageConverter(user_id=user_id),\n",
    "    )\n"
   ]
  },
  {
   "cell_type": "code",
   "execution_count": 13,
   "metadata": {},
   "outputs": [
    {
     "name": "stdout",
     "output_type": "stream",
     "text": [
      "Error: (psycopg2.errors.UniqueViolation) duplicate key value violates unique constraint \"users_username_key\"\n",
      "DETAIL:  Key (username)=(ashketchum) already exists.\n",
      "\n",
      "[SQL: INSERT INTO users (username, first_name, last_name) VALUES (%(username)s, %(first_name)s, %(last_name)s) RETURNING users.id]\n",
      "[parameters: {'username': 'ashketchum', 'first_name': 'Ash', 'last_name': 'Ketchum'}]\n",
      "(Background on this error at: https://sqlalche.me/e/20/gkpj)\n"
     ]
    },
    {
     "data": {
      "text/plain": [
       "[]"
      ]
     },
     "execution_count": 13,
     "metadata": {},
     "output_type": "execute_result"
    }
   ],
   "source": [
    "# Test case: New session, new user\n",
    "import uuid\n",
    "\n",
    "user = User(username=\"ashketchum\", first_name=\"Ash\", last_name=\"Ketchum\")\n",
    "try:\n",
    "    session.add(user)\n",
    "    session.commit()\n",
    "except Exception as e:\n",
    "    print(f\"Error: {e}\")\n",
    "    session.rollback()\n",
    "    user = session.query(User).filter_by(username=\"ashketchum\").first()\n",
    "\n",
    "session_id = uuid.uuid4().hex\n",
    "chat_history = get_session_history(session_id, user.id)\n",
    "chat_history.get_messages()"
   ]
  },
  {
   "cell_type": "code",
   "execution_count": 14,
   "metadata": {},
   "outputs": [
    {
     "data": {
      "text/plain": [
       "[AIMessage(content='Hello Ash, I am a bot'),\n",
       " HumanMessage(content='Hello Bot, I am Ash! I wanna be the very best!'),\n",
       " AIMessage(content='Like no one ever was!'),\n",
       " HumanMessage(content='To catch them is my real test!')]"
      ]
     },
     "execution_count": 14,
     "metadata": {},
     "output_type": "execute_result"
    }
   ],
   "source": [
    "chat_history.add_ai_message(\"Hello Ash, I am a bot\")\n",
    "chat_history.add_user_message(\"Hello Bot, I am Ash! I wanna be the very best!\")\n",
    "chat_history.add_ai_message(\"Like no one ever was!\")\n",
    "chat_history.add_user_message(\"To catch them is my real test!\")\n",
    "chat_history.get_messages()"
   ]
  },
  {
   "cell_type": "code",
   "execution_count": 15,
   "metadata": {},
   "outputs": [
    {
     "data": {
      "text/plain": [
       "[AIMessage(content='Hello Ash, I am a bot'),\n",
       " HumanMessage(content='Hello Bot, I am Ash! I wanna be the very best!'),\n",
       " AIMessage(content='Like no one ever was!'),\n",
       " HumanMessage(content='To catch them is my real test!')]"
      ]
     },
     "execution_count": 15,
     "metadata": {},
     "output_type": "execute_result"
    }
   ],
   "source": [
    "# test retrieval from \"cold\"\n",
    "test_return_chat_history = get_session_history(session_id, user.id)\n",
    "test_return_chat_history.get_messages()"
   ]
  },
  {
   "cell_type": "markdown",
   "metadata": {},
   "source": [
    "## Integrate RunnableWithMessageHistory into our DialogueAgent"
   ]
  },
  {
   "cell_type": "code",
   "execution_count": 22,
   "metadata": {},
   "outputs": [],
   "source": [
    "from dotenv import load_dotenv\n",
    "from langchain_core.runnables.history import RunnableWithMessageHistory\n",
    "from reco_analysis.chatbot.chatbot import DialogueAgent\n",
    "\n",
    "load_dotenv(\"../.env\")\n",
    "\n",
    "dialogue_agent = DialogueAgent()\n",
    "\n",
    "# get Ash\n",
    "user = session.query(User).filter_by(username=\"ashketchum\").first()\n",
    "\n",
    "runnable_with_history = RunnableWithMessageHistory(\n",
    "    dialogue_agent.chain,\n",
    "    get_session_history=lambda: get_session_history(session_id, user.id),\n",
    ")\n",
    "\n",
    "dialogue_agent.chain = runnable_with_history\n",
    "dialogue_agent.memory = get_session_history(session_id, user.id)"
   ]
  },
  {
   "cell_type": "code",
   "execution_count": 23,
   "metadata": {},
   "outputs": [
    {
     "data": {
      "text/plain": [
       "['Doctor: Hello Ash, I am a bot',\n",
       " 'Patient: Hello Bot, I am Ash! I wanna be the very best!',\n",
       " 'Doctor: Like no one ever was!',\n",
       " 'Patient: To catch them is my real test!']"
      ]
     },
     "execution_count": 23,
     "metadata": {},
     "output_type": "execute_result"
    }
   ],
   "source": [
    "dialogue_agent.get_history()"
   ]
  },
  {
   "cell_type": "code",
   "execution_count": 24,
   "metadata": {},
   "outputs": [],
   "source": [
    "dialogue_agent.send(\"Hello Ash, I am definitely not a bot\")"
   ]
  },
  {
   "cell_type": "code",
   "execution_count": 25,
   "metadata": {},
   "outputs": [
    {
     "data": {
      "text/plain": [
       "['Doctor: Hello Ash, I am a bot',\n",
       " 'Patient: Hello Bot, I am Ash! I wanna be the very best!',\n",
       " 'Doctor: Like no one ever was!',\n",
       " 'Patient: To catch them is my real test!',\n",
       " 'Doctor: Hello Ash, I am definitely not a bot']"
      ]
     },
     "execution_count": 25,
     "metadata": {},
     "output_type": "execute_result"
    }
   ],
   "source": [
    "dialogue_agent.get_history()"
   ]
  }
 ],
 "metadata": {
  "kernelspec": {
   "display_name": "reco-analysis-vNTlTR5M-py3.11",
   "language": "python",
   "name": "python3"
  },
  "language_info": {
   "codemirror_mode": {
    "name": "ipython",
    "version": 3
   },
   "file_extension": ".py",
   "mimetype": "text/x-python",
   "name": "python",
   "nbconvert_exporter": "python",
   "pygments_lexer": "ipython3",
   "version": "3.11.7"
  }
 },
 "nbformat": 4,
 "nbformat_minor": 2
}
