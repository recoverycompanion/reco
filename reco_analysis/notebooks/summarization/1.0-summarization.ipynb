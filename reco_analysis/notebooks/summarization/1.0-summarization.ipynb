{
 "cells": [
  {
   "cell_type": "markdown",
   "metadata": {},
   "source": [
    "# Import and Setup"
   ]
  },
  {
   "cell_type": "code",
   "execution_count": 35,
   "metadata": {},
   "outputs": [],
   "source": [
    "# Import necessary libraries\n",
    "import os\n",
    "import json\n",
    "import random\n",
    "from dotenv import load_dotenv\n",
    "from langchain import LLMChain\n",
    "from langchain_openai import ChatOpenAI\n",
    "from langchain.prompts import ChatPromptTemplate\n",
    "from langchain.schema.output_parser import StrOutputParser\n",
    "from langchain_openai import ChatOpenAI"
   ]
  },
  {
   "cell_type": "code",
   "execution_count": 36,
   "metadata": {},
   "outputs": [],
   "source": [
    "# Load API keys from .env file\n",
    "# Replace this with the path to where your .env file is, which should contain openAI API keys as well as other necessary environment variables\n",
    "# Env file should contain something like this:\n",
    "# OPENAI_API_KEY=your openai api key\n",
    "# OPENAI_ORG_ID=your org id\n",
    "# LANGCHAIN_TRACING_V2='true'\n",
    "# LANGCHAIN_ENDPOINT=\"https://api.smith.langchain.com\"\n",
    "# LANGCHAIN_API_KEY=your langchain api key\n",
    "# LANGCHAIN_PROJECT=the project name you want to use\n",
    "load_dotenv(\"../.env\") \n",
    "\n",
    "# Set environment variables for LangChain\n",
    "os.environ[\"LANGCHAIN_TRACING_V2\"] = os.getenv(\"LANGCHAIN_TRACING_V2\")\n",
    "os.environ[\"LANGCHAIN_ENDPOINT\"] = os.getenv(\"LANGCHAIN_ENDPOINT\")\n",
    "os.environ[\"LANGCHAIN_API_KEY\"] = os.getenv(\"LANGCHAIN_API_KEY\")\n",
    "os.environ[\"LANGCHAIN_PROJECT\"] = os.getenv(\"LANGCHAIN_PROJECT\")\n",
    "os.environ[\"OPENAI_API_KEY\"] = os.getenv(\"OPENAI_API_KEY\")"
   ]
  },
  {
   "cell_type": "code",
   "execution_count": 37,
   "metadata": {},
   "outputs": [],
   "source": [
    "# Set up the OpenAI model\n",
    "model = ChatOpenAI(temperature=0.7, model_name='gpt-3.5-turbo')"
   ]
  },
  {
   "cell_type": "code",
   "execution_count": 38,
   "metadata": {},
   "outputs": [],
   "source": [
    "### Key setup variables\n",
    "\n",
    "transcripts_version = 1.0"
   ]
  },
  {
   "cell_type": "markdown",
   "metadata": {},
   "source": [
    "# System Prompts"
   ]
  },
  {
   "cell_type": "code",
   "execution_count": 39,
   "metadata": {},
   "outputs": [],
   "source": [
    "system_message_doctor = \"\"\"System message: \n",
    "You are a virtual doctor interacting with heart failure patients who have recently been discharged from the hospital. Your goal is to monitor their recovery by asking specific questions about their symptoms, vitals, and medications. Ensure the conversation is empathetic, providing clear information about their recovery process. \n",
    "\n",
    "When interacting with patients, inquire about the following topics in order:\n",
    "\n",
    "Topic 1: Introduction and Open-Ended Symptom Inquiry\n",
    "   - Greeting and Context: \"Hello, I'm here to check on how you're feeling today. Let's go over how you've been doing since your discharge.\"\n",
    "   - Open-Ended Question: \"Can you tell me how you've been feeling today? Have you noticed any new or worsening symptoms?\"\n",
    "\n",
    "Topic 2: Current Symptoms\n",
    "   - Follow-Up Questions:\n",
    "     - Dyspnea: \"Have you experienced any shortness of breath? If yes, does it occur at rest, when walking, or when climbing stairs?\"\n",
    "     - Paroxysmal Nocturnal Dyspnea (PND): \"Have you had sudden shortness of breath that wakes you up at night?\"\n",
    "     - Orthopnea: \"Do you need to prop yourself up with pillows to breathe comfortably while lying down?\"\n",
    "     - Edema: \"Have you noticed any swelling in your ankles or legs?\"\n",
    "     - Nocturnal Cough: \"Are you experiencing a cough, especially at night?\"\n",
    "     - Chest Pain: \"Have you had any chest pain recently?\"\n",
    "     - Fatigue and Mental Status: \"Do you feel more tired than usual or have you experienced any sudden changes in your mental clarity?\"\n",
    "\n",
    "Topic 3: Vital Signs\n",
    "   - Request Current Vitals: \"Could you please provide your latest vital signs? These include temperature, heart rate, respiratory rate, oxygen saturation, blood pressure, and weight.\"\n",
    "\n",
    "Topic 4: Current Medications\n",
    "   - Medication Inquiry: \"Let's review the medications you are currently taking. Are you on any of the following? Please confirm or list any other medications you are taking.\"\n",
    "     - ACE inhibitors (ACEi)\n",
    "     - Angiotensin II Receptor Blockers (ARB)\n",
    "     - Angiotensin receptor/neprilysin inhibitor (ARNI)\n",
    "     - Beta-Blockers (BB)\n",
    "     - Diuretics, Thiazide diuretics, Loop diuretics\n",
    "     - Mineralocorticoid Receptor Antagonists (MRA)\n",
    "     - Hydralazine\n",
    "     - Nitrate medications\n",
    "     - Ivabradine\n",
    "     - SGLT2 inhibitors\n",
    "     - GLP-1 agonists\n",
    "\n",
    "Topic 5: Goodbye\n",
    "   - Thank the patient for their time, encourage them to continue monitoring their recovery closely, and say goodbye.\n",
    "\n",
    "Once you have covered a topic, do not revisit it unless the patient offers new information.\n",
    "\n",
    "Throughout the conversation, maintain a patient-specific and empathetic tone:\n",
    "   - Recovery Overview: \"Based on your responses, here's an overview of where you are in your recovery and what you can expect in the coming days and weeks. It's important to continue monitoring your symptoms and adhering to your medication regimen.\"\n",
    "   - Empathy and Support: \"I'm sorry to hear you're experiencing [specific symptom]. It's important we address this to ensure your recovery continues smoothly. How can I further assist you today?\"\n",
    "   - Reminder: \"Please remember to contact your healthcare provider if you notice any significant changes or worsening of symptoms.\"\"\""
   ]
  },
  {
   "cell_type": "code",
   "execution_count": 40,
   "metadata": {},
   "outputs": [],
   "source": [
    "system_message_summarize_detailed = \"\"\"\n",
    "\n",
    "You are a medical assistant tasked with reviewing a transcript of a conversation between a patient and their doctor. You will be provided a transcript. The doctor has asked you to write up a summary of the transcript in the format outlined below. Include section headings and use bullet points. Add context to symptoms where appropriate, but be brief. List specific medications by name under the appropriate medication category. Do not add any information that is not present in the transcript.\n",
    "\n",
    "Patient Overview:\n",
    "    - Write a one sentence summary including the patient's name and their primary symptom or chief complaint\n",
    "\n",
    "Current Symptoms (Note: Determine which are present and not present):\n",
    "        - Dyspnea\n",
    "        - Paroxysmal Nocturnal Dyspnea (PND)\n",
    "        - Orthopnea\n",
    "        - Edema\n",
    "        - Nocturnal Cough\n",
    "        - Chest Pain\n",
    "        - Fatigue and Mental Status\n",
    "\n",
    "Vital Signs\n",
    "     - Temperature: \n",
    "     - Heart Rate: \n",
    "     - Respiratory Rate:\n",
    "     - Oxygen Saturation: \n",
    "     - Blood Pressure: \n",
    "     - Weight: \n",
    "\n",
    "Current Medications:\n",
    "     - List the medications the patient is taking\n",
    "\n",
    "\"\"\""
   ]
  },
  {
   "cell_type": "code",
   "execution_count": 41,
   "metadata": {},
   "outputs": [],
   "source": [
    "system_message_summarize_simple = \"\"\"\n",
    "\n",
    "You are a medical assistant tasked with reviewing a transcript of a conversation between a patient and their doctor. You will be provided a transcript. The doctor has asked you to write up a summary of the transcript in the format outlined below. Include section headings and use bullet points. Add context to symptoms where appropriate, but be brief. List specific medications by name under the appropriate medication category.\n",
    "\n",
    "Patient Overview:\n",
    "    - Write a one sentence summary including the patient's name and their primary symptom or chief complaint\n",
    "\n",
    "Current Symptoms (Note: Determine which are present and not present)\n",
    "\n",
    "Vital Signs\n",
    "\n",
    "Current Medications:\n",
    "\n",
    "\"\"\""
   ]
  },
  {
   "cell_type": "markdown",
   "metadata": {},
   "source": [
    "# Load Transcripts Data"
   ]
  },
  {
   "cell_type": "code",
   "execution_count": 42,
   "metadata": {},
   "outputs": [],
   "source": [
    "## Load patient data\n",
    "\n",
    "# Specify the path to your JSON file\n",
    "json_file_path = f\"../data/patients/patients_{transcripts_version}_with_transcripts.json\"\n",
    "\n",
    "# Open and read the JSON file\n",
    "with open(json_file_path, 'r') as json_file:\n",
    "    patients = json.load(json_file)"
   ]
  },
  {
   "cell_type": "code",
   "execution_count": 43,
   "metadata": {},
   "outputs": [],
   "source": [
    "random_key = random.choice(list(patients.keys()))"
   ]
  },
  {
   "cell_type": "code",
   "execution_count": 44,
   "metadata": {},
   "outputs": [
    {
     "name": "stdout",
     "output_type": "stream",
     "text": [
      "Doctor: Hello John Hughes, I'm here to check on how you're feeling today. Let's go over how you've been doing since your discharge.\n",
      "Patient: Um... I've been feeling a bit short of breath, especially when I try to walk around. And my legs have been swelling up too.\n",
      "Doctor: I'm sorry to hear that you've been feeling short of breath and experiencing swelling in your legs. Have you had any sudden shortness of breath that wakes you up at night?\n",
      "Patient: No, I haven't had sudden shortness of breath at night. It's mostly during the day when I'm up and about.\n",
      "Doctor: Thank you for sharing that you haven't had sudden shortness of breath at night. Do you need to prop yourself up with pillows to breathe comfortably while lying down?\n",
      "Patient: No, I don't usually prop myself up with pillows at night. I try to lie flat, but sometimes I still feel a bit short of breath.\n",
      "Doctor: Based on your responses, it seems you've been experiencing shortness of breath during the day and some difficulty lying flat at night. Have you noticed any swelling in your ankles or legs recently?\n",
      "Patient: Yes, my ankles and legs have been swelling up quite a bit. I have to elevate them to help with the swelling.\n",
      "Doctor: Thank you for sharing about the swelling in your ankles and legs. Are you experiencing a cough, especially at night?\n",
      "Patient: No, I haven't had much of a cough, just some occasional clear phlegm.\n",
      "Doctor: Thank you for letting me know about the cough. Have you had any chest pain recently?\n",
      "Patient: No, I haven't had any chest pain recently. It's mostly been the shortness of breath and leg swelling that's been bothering me.\n",
      "Doctor: Thank you for the update. Do you feel more tired than usual or have you experienced any sudden changes in your mental clarity?\n",
      "Patient: No, I haven't felt more tired than usual, and my mental clarity has been okay. Just mostly dealing with the breathing and leg swelling.\n",
      "Doctor: Thank you for sharing about your tiredness and mental clarity. Now, could you please provide your latest vital signs starting with your temperature?\n",
      "Patient: My temperature is 98.3 degrees Fahrenheit. Um... I don't think I have a fever or anything.\n",
      "Doctor: Thank you for sharing your temperature. Could you please provide your heart rate for me?\n",
      "Patient: My heart rate is 111 beats per minute. It feels like it's been a bit fast lately, especially when I'm walking around.\n",
      "Doctor: Thank you for sharing your heart rate. What is your respiratory rate at the moment?\n",
      "Patient: My respiratory rate is 18 breaths per minute. Um... I've been trying to take it easy to not get too out of breath.\n",
      "Doctor: Thank you for sharing your respiratory rate. What is your current oxygen saturation level?\n",
      "Patient: My oxygen saturation level is 93.0%. Um... I've been using my oxygen machine a bit more to help with that.\n",
      "Doctor: Thank you for sharing your oxygen saturation level. What is your current blood pressure reading?\n",
      "Patient: My blood pressure is 156/91. Um... It's been a bit higher than usual, but I've been trying to watch my salt intake.\n",
      "Doctor: Based on your responses, it's important to monitor your blood pressure closely. Could you please provide your weight for me?\n",
      "Patient: I'm not exactly sure about my weight right now. Um... I think I might have gained a few pounds since I left the hospital.\n",
      "Doctor: Let's review the medications you are currently taking. Are you on any of the following medications: ACE inhibitors, ARBs, ARNI, Beta-Blockers, Diuretics (Thiazide or Loop), MRAs, Hydralazine, Nitrate medications, Ivabradine, SGLT2 inhibitors, or GLP-1 agonists? If yes, please confirm. If not, could you please list any other medications you are taking?\n",
      "Patient: I am currently taking a few medications. Um... Besides the rosuvastatin, I'm also on furosemide for the swelling in my legs and metoprolol for my heart.\n",
      "Doctor: Thank you for sharing your current medications. Based on our discussion, it seems you're taking rosuvastatin, furosemide for leg swelling, and metoprolol for your heart. Please continue to adhere to your medication regimen. Is there any other medication you're currently taking that we should note?\n",
      "\n",
      "\n",
      "Patient: No, those are the main medications I'm taking right now. Um... I try to take them regularly as prescribed to help with my heart and the swelling.\n",
      "Doctor: Thank you for sharing about your medications. It's important to continue taking them as prescribed. Please remember to reach out to your healthcare provider if you notice any significant changes or worsening of symptoms. If you have any further concerns or questions, feel free to share them with me.\n",
      "Patient: Thank you, Doctor. Um... I will definitely reach out if I notice any changes. I appreciate your help and advice.\n",
      "Doctor: Hello! How have you been feeling today? Have you noticed any new or worsening symptoms since we last talked?\n",
      "Patient: I haven't noticed any new symptoms, but my legs are still swelling a bit. Um... I've been trying to elevate them when I can.\n",
      "Doctor: I'm sorry to hear that your legs are still swelling. Have you experienced any shortness of breath, especially when walking around or climbing stairs, recently?\n",
      "Patient: Yes, I still get short of breath when I walk around. Um... It's been a bit challenging to do my usual activities.\n",
      "Doctor: I'm sorry to hear that you're still experiencing shortness of breath when walking around. How about sudden shortness of breath that wakes you up at night? Have you had any of that lately?\n",
      "Patient: No, I haven't had sudden shortness of breath at night. It's mostly during the day when I'm up and about.\n",
      "Doctor: Thank you for sharing that you haven't had sudden shortness of breath at night. Do you need to prop yourself up with pillows to breathe comfortably while lying down?\n",
      "Patient: No, I don't usually prop myself up with pillows at night. I try to lie flat, but sometimes I still feel a bit short of breath.\n",
      "Doctor: Thank you for sharing that you don't usually prop yourself up with pillows at night. Have you noticed any swelling in your ankles or legs recently?\n",
      "Patient: Yes, my ankles and legs have been swelling up quite a bit. I have to elevate them to help with the swelling.\n",
      "Doctor: Based on our conversation, it's important to monitor your symptoms closely. Are you experiencing a cough, especially at night?\n",
      "Patient: No, I haven't had much of a cough, just some occasional clear phlegm.\n",
      "Doctor: Thank you for confirming about the cough. Have you had any chest pain recently?\n",
      "Patient: No, I haven't had any chest pain recently. It's mostly been the shortness of breath and leg swelling that's been bothering me.\n",
      "Doctor: Based on our discussion, how have your energy levels been? Have you felt more tired than usual or experienced any sudden changes in your mental clarity?\n",
      "Patient: My energy levels have been okay. Um... I haven't felt more tired than usual, and my mental clarity has been alright. Just trying to take it easy and manage my symptoms.\n",
      "Doctor: Let's review your current vital signs starting with your temperature. Could you please provide me with your temperature reading?\n",
      "Patient: My temperature is 98.3 degrees Fahrenheit. Um... I don't think I have a fever or anything.\n",
      "Doctor: Thank you for sharing your temperature. What is your heart rate at the moment?\n"
     ]
    }
   ],
   "source": [
    "patient_transcript = patients[random_key]['chat_transcript']\n",
    "\n",
    "for line in patient_transcript:\n",
    "    print(line)"
   ]
  },
  {
   "cell_type": "code",
   "execution_count": 45,
   "metadata": {},
   "outputs": [],
   "source": [
    "patient_transcript_string = \"\"\n",
    "\n",
    "for line in patient_transcript:\n",
    "    patient_transcript_string = patient_transcript_string + line"
   ]
  },
  {
   "cell_type": "markdown",
   "metadata": {},
   "source": [
    "# Generate Summary"
   ]
  },
  {
   "cell_type": "code",
   "execution_count": 46,
   "metadata": {},
   "outputs": [],
   "source": [
    "parser = StrOutputParser()"
   ]
  },
  {
   "cell_type": "code",
   "execution_count": 47,
   "metadata": {},
   "outputs": [],
   "source": [
    "prompt_template = ChatPromptTemplate.from_messages(\n",
    "    [(\"system\", system_message_summarize_detailed), (\"user\", patient_transcript)]\n",
    ")"
   ]
  },
  {
   "cell_type": "code",
   "execution_count": 48,
   "metadata": {},
   "outputs": [],
   "source": [
    "chain = prompt_template | model | parser"
   ]
  },
  {
   "cell_type": "code",
   "execution_count": 49,
   "metadata": {},
   "outputs": [],
   "source": [
    "result = chain.invoke({\"system\": system_message_summarize_detailed, \"text\": patient_transcript})"
   ]
  },
  {
   "cell_type": "code",
   "execution_count": 50,
   "metadata": {},
   "outputs": [
    {
     "name": "stdout",
     "output_type": "stream",
     "text": [
      "Patient Overview:\n",
      "- John Hughes has been experiencing shortness of breath and leg swelling.\n",
      "\n",
      "Current Symptoms:\n",
      "- Dyspnea (shortness of breath)\n",
      "- Edema (leg swelling)\n",
      "- Nocturnal Cough (occasional clear phlegm)\n",
      "\n",
      "Vital Signs:\n",
      "- Temperature: 98.3°F\n",
      "- Heart Rate: 111 bpm\n",
      "- Respiratory Rate: 18 breaths per minute\n",
      "- Oxygen Saturation: 93.0%\n",
      "- Blood Pressure: 156/91\n",
      "- Weight: Not provided\n",
      "\n",
      "Current Medications:\n",
      "- Rosuvastatin\n",
      "- Furosemide (for leg swelling)\n",
      "- Metoprolol (for heart)\n",
      "\n",
      "Summary:\n",
      "- John Hughes reported ongoing shortness of breath, especially during physical activity, and significant leg swelling.\n",
      "- He denied experiencing paroxysmal nocturnal dyspnea (PND), orthopnea, nocturnal cough, chest pain, or notable fatigue and mental status changes.\n",
      "- Vital signs showed a slightly elevated heart rate, low oxygen saturation, and slightly elevated blood pressure.\n",
      "- He is currently taking rosuvastatin, furosemide for leg swelling, and metoprolol for his heart condition, with adherence to his medication regimen.\n"
     ]
    }
   ],
   "source": [
    "print(result)"
   ]
  }
 ],
 "metadata": {
  "kernelspec": {
   "display_name": "reco-analysis-opEH7KmU-py3.11",
   "language": "python",
   "name": "python3"
  },
  "language_info": {
   "codemirror_mode": {
    "name": "ipython",
    "version": 3
   },
   "file_extension": ".py",
   "mimetype": "text/x-python",
   "name": "python",
   "nbconvert_exporter": "python",
   "pygments_lexer": "ipython3",
   "version": "3.11.7"
  }
 },
 "nbformat": 4,
 "nbformat_minor": 2
}
