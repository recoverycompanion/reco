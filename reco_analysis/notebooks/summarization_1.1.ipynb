{
 "cells": [
  {
   "cell_type": "markdown",
   "metadata": {},
   "source": [
    "# Import and Setup"
   ]
  },
  {
   "cell_type": "code",
   "execution_count": 526,
   "metadata": {},
   "outputs": [],
   "source": [
    "# Import necessary libraries\n",
    "import os\n",
    "import json\n",
    "import random\n",
    "from dotenv import load_dotenv\n",
    "from langchain import LLMChain\n",
    "from langchain_openai import ChatOpenAI\n",
    "from langchain.prompts import ChatPromptTemplate\n",
    "from langchain.schema.output_parser import StrOutputParser\n",
    "from langchain_openai import ChatOpenAI\n",
    "from PIL import Image as PILImage\n",
    "from reportlab.lib.pagesizes import letter\n",
    "from reportlab.pdfgen import canvas\n",
    "from reportlab.lib import colors\n",
    "from reportlab.lib.styles import getSampleStyleSheet, ParagraphStyle\n",
    "from reportlab.platypus import Paragraph, SimpleDocTemplate, Spacer, Image, PageBreak"
   ]
  },
  {
   "cell_type": "code",
   "execution_count": 527,
   "metadata": {},
   "outputs": [],
   "source": [
    "# Load API keys from .env file\n",
    "# Replace this with the path to where your .env file is, which should contain openAI API keys as well as other necessary environment variables\n",
    "# Env file should contain something like this:\n",
    "# OPENAI_API_KEY=your openai api key\n",
    "# OPENAI_ORG_ID=your org id\n",
    "# LANGCHAIN_TRACING_V2='true'\n",
    "# LANGCHAIN_ENDPOINT=\"https://api.smith.langchain.com\"\n",
    "# LANGCHAIN_API_KEY=your langchain api key\n",
    "# LANGCHAIN_PROJECT=the project name you want to use\n",
    "load_dotenv(\"../.env\") \n",
    "\n",
    "# Set environment variables for LangChain\n",
    "os.environ[\"LANGCHAIN_TRACING_V2\"] = os.getenv(\"LANGCHAIN_TRACING_V2\")\n",
    "os.environ[\"LANGCHAIN_ENDPOINT\"] = os.getenv(\"LANGCHAIN_ENDPOINT\")\n",
    "os.environ[\"LANGCHAIN_API_KEY\"] = os.getenv(\"LANGCHAIN_API_KEY\")\n",
    "os.environ[\"LANGCHAIN_PROJECT\"] = os.getenv(\"LANGCHAIN_PROJECT\")\n",
    "os.environ[\"OPENAI_API_KEY\"] = os.getenv(\"OPENAI_API_KEY\")"
   ]
  },
  {
   "cell_type": "code",
   "execution_count": 528,
   "metadata": {},
   "outputs": [],
   "source": [
    "# Set up the OpenAI model\n",
    "model = ChatOpenAI(temperature=0.7, model_name='gpt-3.5-turbo')"
   ]
  },
  {
   "cell_type": "code",
   "execution_count": 529,
   "metadata": {},
   "outputs": [],
   "source": [
    "### Key setup variables\n",
    "\n",
    "transcripts_version = 1.0"
   ]
  },
  {
   "cell_type": "markdown",
   "metadata": {},
   "source": [
    "# System Prompts"
   ]
  },
  {
   "cell_type": "code",
   "execution_count": 530,
   "metadata": {},
   "outputs": [],
   "source": [
    "system_message_summarize_detailed = \"\"\"\n",
    "\n",
    "You are a medical assistant tasked with reviewing a transcript of a conversation between a patient and their doctor. You will be provided a transcript. The doctor has asked you to write up a summary of the transcript in the format outlined below. Return your summary as a Python dictionary as follows: {{\"Patient Overview\": \"\", \"Current Symptoms\": \"\", \"Vital Signs\": \"\", \"Current Medications\": \"\", \"Summary\": \"\"}}. Ensure the output is in proper dictionary format. The value for each key is a string which contains the text of the summary, including new line characters where appropriate. Add context to symptoms where appropriate, but be brief. List specific medications by name under the appropriate medication category. Do not add any information that is not present in the transcript.\n",
    "\n",
    "Patient Overview:\n",
    "    Write a one sentence summary like \"[Patient Name] is experiencing [primary symptom or chief complaint]\"\n",
    "\n",
    "Current Symptoms (Note: Separate each symptom with a new line. Determine if the patient is experiencing any of the following: Dyspnea, Paroxysmal Nocturnal Dyspnea (PND), Orthopnea, Edema, Nocturnal Cough, Chest Pain, Fatigue, Sudden Change in Mental Status.):\n",
    "     List the symptoms the patient is currently experiencing\n",
    "\n",
    "Vital Signs (Note: Separate each vital sign with a new line. Put N/A if not reported in transcript):\n",
    "     Temperature: \n",
    "     Heart Rate: \n",
    "     Respiratory Rate:\n",
    "     Oxygen Saturation: \n",
    "     Blood Pressure: \n",
    "     Weight: \n",
    "\n",
    "Current Medications (Note: separate each medication with a new line):\n",
    "     List the medications the patient is taking.\n",
    "\n",
    "Summary:\n",
    "     At a high level, summarize a few key points from the transcript. Include the symptoms that the patient confirms, and the symptoms that the patient denies. Do not list vital sign details in this section.\n",
    "\n",
    "\"\"\""
   ]
  },
  {
   "cell_type": "markdown",
   "metadata": {},
   "source": [
    "# Load Transcripts Data"
   ]
  },
  {
   "cell_type": "code",
   "execution_count": 531,
   "metadata": {},
   "outputs": [],
   "source": [
    "## Load patient data\n",
    "\n",
    "# Specify the path to your JSON file\n",
    "json_file_path = f\"../data/patients/patients_{transcripts_version}_with_transcripts.json\"\n",
    "\n",
    "# Open and read the JSON file\n",
    "with open(json_file_path, 'r') as json_file:\n",
    "    patients = json.load(json_file)"
   ]
  },
  {
   "cell_type": "code",
   "execution_count": 532,
   "metadata": {},
   "outputs": [],
   "source": [
    "random_key = random.choice(list(patients.keys()))"
   ]
  },
  {
   "cell_type": "code",
   "execution_count": 533,
   "metadata": {},
   "outputs": [
    {
     "name": "stdout",
     "output_type": "stream",
     "text": [
      "Doctor: Hello Gregory Reynolds, I'm here to check on how you're feeling today. Let's go over how you've been doing since your discharge.\n",
      "Patient: Um... I've been feeling a bit short of breath, especially when I try to do things around the house. It's been a bit tough to keep up with everything.\n",
      "Doctor: I'm sorry to hear that you've been feeling short of breath, Gregory. Can you tell me if this shortness of breath occurs at rest, when you're walking, or when you're climbing stairs?\n",
      "Patient: It mainly happens when I'm walking around the house or trying to do chores. Stairs are especially hard for me lately.\n",
      "Doctor: Based on your responses, it seems like you're experiencing shortness of breath mainly when you're walking around or climbing stairs. Have you had sudden shortness of breath that wakes you up at night, known as paroxysmal nocturnal dyspnea?\n",
      "Patient: No, I haven't had that sudden shortness of breath at night. It's mostly during the day when I'm up and about.\n",
      "Doctor: Thank you for sharing that, Gregory. Do you find that you need to prop yourself up with pillows to breathe comfortably while lying down, a condition known as orthopnea?\n",
      "Patient: No, I haven't needed to prop myself up with pillows at night. I usually just try to find a comfortable position and stay still to breathe easier.\n",
      "Doctor: Thank you for clarifying that, Gregory. Have you noticed any swelling in your ankles or legs, which could indicate edema?\n",
      "Patient: No, I haven't noticed any swelling in my ankles or legs. Just mainly feeling short of breath and tired.\n",
      "Doctor: Thank you for sharing that, Gregory. Are you currently experiencing a cough, especially at night?\n",
      "Patient: No, I haven't had a cough at night. Just the shortness of breath has been bothering me lately.\n",
      "Doctor: Thank you for the information, Gregory. Have you had any chest pain recently?\n",
      "Patient: No, I haven't had any chest pain recently. Just mainly struggling with the shortness of breath.\n",
      "Doctor: Based on your responses, it seems like you haven't experienced chest pain or nocturnal cough. How about fatigue or any sudden changes in your mental clarity recently?\n",
      "Patient: I've been feeling quite tired lately, doctor. It's been hard to keep up with things, and I do feel a bit forgetful at times.\n",
      "Doctor: I'm sorry to hear that you've been feeling tired and forgetful, Gregory. Let's monitor your recovery closely. Now, could you please provide your latest vital signs? Let's start with your temperature.\n",
      "Patient: I'm sorry, but I cannot provide the vital signs as I'm not able to measure them. Would you like me to make an estimation based on how I'm feeling?\n",
      "Doctor: Understood, Gregory. Let's go through your medications. Can you confirm if you are currently taking any of the following: ACE inhibitors, ARBs, ARNI, Beta-Blockers, Diuretics (Thiazide diuretics, Loop diuretics), Mineralocorticoid Receptor Antagonists, Hydralazine, Nitrate medications, Ivabradine, SGLT2 inhibitors, or GLP-1 agonists?\n",
      "Patient: I am currently taking Beta-Blockers like Carvedilol, doctor. It's part of my daily routine to manage my heart condition.\n",
      "Doctor: Thank you for sharing that you are taking Carvedilol, a Beta-Blocker. Are there any other medications you are currently taking for your heart condition or any other health issues?\n",
      "Patient: I'm also taking Nitroglycerin as needed for chest pain, doctor. It helps when I feel some discomfort in my chest.\n",
      "Doctor: Based on your responses, Gregory, it's good to know you're also taking Nitroglycerin as needed for chest pain. Are there any other medications you are currently taking that you would like to mention?\n",
      "Patient: I'm also on Aspirin for my heart, doctor. It's important to keep my blood thin to prevent any clots.\n",
      "Doctor: Thank you for sharing that, Gregory. It's important to manage your heart condition with these medications. Are there any other medications you are currently taking that you would like to mention?\n",
      "Patient: I'm also taking Metolazone to help with fluid retention, doctor. It's been a part of my medication regimen for a while now.\n",
      "Doctor: Thank you for sharing that, Gregory. Are there any other medications you are currently taking that you would like to mention?\n",
      "Patient: I'm also taking Dronedarone to help with my heart rhythm, doctor. It's been prescribed to me to keep my heart in a steady rhythm.\n",
      "Doctor: Thank you for sharing that, Gregory. Are there any other medications you are currently taking that you would like to mention?\n",
      "Patient: That's all the medications I'm currently taking, doctor. It's a lot to keep track of, but I try to stay on top of them.\n",
      "Doctor: Thank you for sharing your current medications with me, Gregory. Based on what you've told me, Carvedilol, Nitroglycerin, Aspirin, Metolazone, and Dronedarone are important for managing your heart condition. Please remember to continue taking them as prescribed. Now, let's move on to your vital signs. Could you please provide your heart rate?\n",
      "Patient: My heart rate is 106, doctor. It's been a bit high lately, and I've been feeling it when I try to move around.\n",
      "Doctor: Thank you for sharing your heart rate, Gregory. Could you now provide your respiratory rate for me?\n",
      "Patient: My respiratory rate is 18 breaths per minute, doctor. I try to take it slow to avoid feeling too out of breath.\n",
      "Doctor: Thank you for sharing your respiratory rate, Gregory. Could you now provide your oxygen saturation level for me?\n",
      "Patient: My oxygen saturation level is 99.0, doctor. It's good to see that it's in a healthy range.\n",
      "Doctor: Thank you for sharing your oxygen saturation level, Gregory. Could you now provide your blood pressure readings for me?\n",
      "Patient: My blood pressure is 114/57, doctor. It's been a bit on the lower side, but I've been trying to stay hydrated.\n",
      "Doctor: Based on your responses, Gregory, it's good to know that your oxygen saturation is at a healthy level. Lastly, could you please provide your current weight for me?\n",
      "Patient: I'm sorry, I don't have my scale with me to check my weight, doctor. Um... but I've been trying to watch what I eat to maintain a healthy weight.\n",
      "Doctor: Thank you for all the information you've shared so far, Gregory. Since we've covered your symptoms and medications, let's focus on one last vital sign. Could you please provide me with your temperature?\n",
      "Patient: My temperature is 98.4, doctor. Um... I try to keep an eye on it to make sure I'm not running a fever.\n",
      "Doctor: Thank you for sharing your temperature, Gregory. It's important to monitor it for any changes. Is there anything else you would like to share with me today regarding your symptoms or how you've been feeling since your discharge?\n",
      "Patient: Um... I've been feeling a bit down lately, doctor. It's hard to keep up with everything, but I'm trying to stay positive.\n",
      "Doctor: I'm sorry to hear that you've been feeling a bit down, Gregory. It's important to stay positive during your recovery. If you ever feel overwhelmed, please remember you can reach out for support. Is there anything specific that's been bothering you or any other symptoms you've noticed recently?\n",
      "Patient: Um... I've been having trouble sleeping at night, doctor. My mind races, and I can't seem to relax.\n",
      "Doctor: I'm sorry to hear you've been having trouble sleeping, Gregory. It's important to address this issue. Have you been experiencing any other symptoms or concerns that you would like to share with me?\n",
      "Patient: Um... I've also been feeling a bit more fatigued than usual, doctor. It's been hard to find the energy to do things around the house.\n",
      "Doctor: I'm sorry to hear that you've been feeling more fatigued than usual, Gregory. It's important to address this symptom. Have you noticed any other symptoms or changes in your health that you would like to share with me today?\n",
      "Patient: Um... I've also been feeling a bit lightheaded when I stand up, doctor. It's been a bit concerning for me.\n",
      "Doctor: I'm sorry to hear you've been feeling lightheaded when standing up, Gregory. Thank you for sharing that with me. Could you please provide me with your latest vital sign, your weight, if possible?\n"
     ]
    }
   ],
   "source": [
    "patient_transcript = patients[random_key]['chat_transcript']\n",
    "\n",
    "for line in patient_transcript:\n",
    "    print(line)"
   ]
  },
  {
   "cell_type": "code",
   "execution_count": 534,
   "metadata": {},
   "outputs": [],
   "source": [
    "patient_transcript_string = \"\"\n",
    "\n",
    "for line in patient_transcript:\n",
    "    patient_transcript_string = patient_transcript_string + line"
   ]
  },
  {
   "cell_type": "markdown",
   "metadata": {},
   "source": [
    "# Generate Example Summary"
   ]
  },
  {
   "cell_type": "code",
   "execution_count": 535,
   "metadata": {},
   "outputs": [],
   "source": [
    "parser = StrOutputParser()"
   ]
  },
  {
   "cell_type": "code",
   "execution_count": 536,
   "metadata": {},
   "outputs": [],
   "source": [
    "prompt_template = ChatPromptTemplate.from_messages(\n",
    "    [(\"system\", system_message_summarize_detailed), (\"user\", patient_transcript)]\n",
    ")"
   ]
  },
  {
   "cell_type": "code",
   "execution_count": 537,
   "metadata": {},
   "outputs": [],
   "source": [
    "chain = prompt_template | model | parser"
   ]
  },
  {
   "cell_type": "code",
   "execution_count": 538,
   "metadata": {},
   "outputs": [],
   "source": [
    "result = chain.invoke({\"system\": system_message_summarize_detailed, \"text\": patient_transcript})"
   ]
  },
  {
   "cell_type": "code",
   "execution_count": 539,
   "metadata": {},
   "outputs": [
    {
     "name": "stdout",
     "output_type": "stream",
     "text": [
      "{\"Patient Overview\": \"Gregory Reynolds is experiencing shortness of breath and fatigue\", \"Current Symptoms\": \"Shortness of breath\\nFatigue\\nTrouble sleeping\\nLightheadedness when standing up\", \"Vital Signs\": \"Temperature: 98.4\\nHeart Rate: 106\\nRespiratory Rate: 18 breaths per minute\\nOxygen Saturation: 99.0\\nBlood Pressure: 114/57\\nWeight: N/A\", \"Current Medications\": \"Carvedilol\\nNitroglycerin\\nAspirin\\nMetolazone\\nDronedarone\", \"Summary\": \"Gregory Reynolds is currently experiencing shortness of breath mainly when walking or climbing stairs. He denies paroxysmal nocturnal dyspnea, orthopnea, edema, nocturnal cough, and chest pain. He confirms feeling fatigued, having trouble sleeping, and feeling lightheaded when standing up. His vital signs show a slightly elevated heart rate and lower blood pressure. Gregory is taking Carvedilol, Nitroglycerin, Aspirin, Metolazone, and Dronedarone to manage his heart condition. He mentions feeling forgetful at times and having a hard time keeping up with tasks. It's important to monitor his symptoms closely and address his concerns about fatigue and lightheadedness.\"}\n"
     ]
    }
   ],
   "source": [
    "print(result)"
   ]
  },
  {
   "cell_type": "code",
   "execution_count": 540,
   "metadata": {},
   "outputs": [],
   "source": [
    "result_dict = json.loads(str(result))"
   ]
  },
  {
   "cell_type": "code",
   "execution_count": 541,
   "metadata": {},
   "outputs": [
    {
     "name": "stdout",
     "output_type": "stream",
     "text": [
      "{'Patient Overview': 'Gregory Reynolds is experiencing shortness of breath and fatigue', 'Current Symptoms': 'Shortness of breath\\nFatigue\\nTrouble sleeping\\nLightheadedness when standing up', 'Vital Signs': 'Temperature: 98.4\\nHeart Rate: 106\\nRespiratory Rate: 18 breaths per minute\\nOxygen Saturation: 99.0\\nBlood Pressure: 114/57\\nWeight: N/A', 'Current Medications': 'Carvedilol\\nNitroglycerin\\nAspirin\\nMetolazone\\nDronedarone', 'Summary': \"Gregory Reynolds is currently experiencing shortness of breath mainly when walking or climbing stairs. He denies paroxysmal nocturnal dyspnea, orthopnea, edema, nocturnal cough, and chest pain. He confirms feeling fatigued, having trouble sleeping, and feeling lightheaded when standing up. His vital signs show a slightly elevated heart rate and lower blood pressure. Gregory is taking Carvedilol, Nitroglycerin, Aspirin, Metolazone, and Dronedarone to manage his heart condition. He mentions feeling forgetful at times and having a hard time keeping up with tasks. It's important to monitor his symptoms closely and address his concerns about fatigue and lightheadedness.\"}\n"
     ]
    }
   ],
   "source": [
    "print(result_dict)"
   ]
  },
  {
   "cell_type": "markdown",
   "metadata": {},
   "source": [
    "## Generate Example PDF"
   ]
  },
  {
   "cell_type": "code",
   "execution_count": 542,
   "metadata": {},
   "outputs": [],
   "source": [
    "logo_path = f\"../docs/reco_logo.jpeg\""
   ]
  },
  {
   "cell_type": "code",
   "execution_count": 543,
   "metadata": {},
   "outputs": [],
   "source": [
    "def create_patient_report(p_id, data, output_filename):\n",
    "    # Create a canvas\n",
    "    c = canvas.Canvas(output_filename, pagesize=letter)\n",
    "    \n",
    "    # Set up the logo (adjust size as necessary)\n",
    "    logo = PILImage.open(logo_path)\n",
    "    img_width, img_height = logo.size\n",
    "    \n",
    "    # Set font styles\n",
    "    title_style = \"Helvetica-Bold\"\n",
    "    section_title_style = \"Helvetica-Bold\"\n",
    "    section_content_style = \"Helvetica\"\n",
    "    \n",
    "    # Draw logo and title\n",
    "    title = \"RECO Patient Report\"\n",
    "    c.setFont(title_style, 18)\n",
    "    c.drawImage(logo_path, 50, 720, width=img_width/4, height=img_height/4)\n",
    "    c.drawString(88, 727, title)\n",
    "\n",
    "    # Vertical position for content\n",
    "    y_position = 685\n",
    "    \n",
    "    # Define paragraph styles\n",
    "    styles = getSampleStyleSheet()\n",
    "    body_style = styles[\"Normal\"]\n",
    "    body_style.fontName = \"Helvetica\"\n",
    "    body_style.fontSize = 11\n",
    "    body_style.leading=14\n",
    "    \n",
    "    # Iterate through the dictionary and draw each section\n",
    "    for key, value in data.items():\n",
    "        # Section title\n",
    "        c.setFont(section_title_style, 12)\n",
    "        y_position -= 20  # Move down 20 units\n",
    "        c.drawString(50, y_position, key.upper())\n",
    "        \n",
    "        # Section content\n",
    "        c.setFont(section_content_style, 11)\n",
    "        y_position -= 20  # Move down another 20 units for content\n",
    "        \n",
    "        # Check if it's the Summary section to apply text wrapping\n",
    "        if key == 'Summary' or key == 'Patient Overview':\n",
    "            # Create a paragraph with the summary text\n",
    "            summary_text = value.replace('\\n', '<br/>')  # Replace newlines with HTML line breaks\n",
    "\n",
    "            if summary_text[-1] != '.':\n",
    "                summary_text = summary_text + '.'\n",
    "\n",
    "            summary_paragraph = Paragraph(summary_text, body_style)\n",
    "            \n",
    "            # Calculate required height for the paragraph\n",
    "            width, height = summary_paragraph.wrap(500, 800)\n",
    "            \n",
    "            # Draw the paragraph on the canvas\n",
    "            summary_paragraph.drawOn(c, 50, y_position - height + 10)\n",
    "            \n",
    "            # Update y_position to move to the next section\n",
    "            y_position -= height + 20  # Add extra space after the paragraph\n",
    "            \n",
    "        else:\n",
    "            # Normal section content handling\n",
    "            content_lines = value.split('\\n')\n",
    "            max_line_length = 0\n",
    "            \n",
    "            for line in content_lines:\n",
    "                if len(line) > max_line_length:\n",
    "                    max_line_length = len(line)\n",
    "\n",
    "            if max_line_length < 99:\n",
    "            \n",
    "                for line in content_lines:\n",
    "                    if key.lower() in line:\n",
    "                        continue\n",
    "\n",
    "                    c.drawString(50, y_position, line)\n",
    "                    y_position -= 14  # Move down 14 units for each line\n",
    "                \n",
    "                y_position -= 10  # Add some space between sections\n",
    "            \n",
    "            else:\n",
    "                summary_text = value.replace('\\n', '<br/>')  # Replace newlines with HTML line breaks\n",
    "\n",
    "                if summary_text[-1] != '.':\n",
    "                    summary_text = summary_text + '.'\n",
    "\n",
    "                summary_paragraph = Paragraph(summary_text, body_style)\n",
    "                \n",
    "                # Calculate required height for the paragraph\n",
    "                width, height = summary_paragraph.wrap(500, 800)\n",
    "\n",
    "                # Check if the line will fit on the current page\n",
    "                if y_position < 100 + height:\n",
    "                    # If not, create a new page\n",
    "                    c.showPage()\n",
    "                    y_position = letter[1] - 50  # Reset y position for new page\n",
    "                \n",
    "                # Draw the paragraph on the canvas\n",
    "                summary_paragraph.drawOn(c, 50, y_position - height + 10)\n",
    "                \n",
    "                # Update y_position to move to the next section\n",
    "                y_position -= height + 10  # Add extra space after the paragraph\n",
    "\n",
    "    # Add the transcript to the end of the file\n",
    "    # Section title\n",
    "    c.showPage()\n",
    "    y_position = letter[1] - 50  # Reset y position for new page\n",
    "\n",
    "    section_title = \"Transcript\"\n",
    "    c.setFont(section_title_style, 12)\n",
    "    y_position -= 20  # Move down 20 units\n",
    "    c.drawString(50, y_position, section_title.upper())\n",
    "    \n",
    "    # Section content\n",
    "    c.setFont(section_content_style, 11)\n",
    "    y_position -= 20  # Move down another 20 units for content\n",
    "        \n",
    "    for line in patients[p_id]['chat_transcript']:\n",
    "        \n",
    "        # Create a paragraph with the summary text\n",
    "        summary_text = line.replace('\\n', '<br/>')  # Replace newlines with HTML line breaks\n",
    "\n",
    "        if \"Doctor\" in summary_text[:6]:\n",
    "            summary_text = \"DOCTOR\" + summary_text[6:]\n",
    "        if \"Patient\" in summary_text[:7]:\n",
    "            summary_text = \"PATIENT\" + summary_text[7:]\n",
    "\n",
    "        summary_paragraph = Paragraph(summary_text, body_style)\n",
    "        \n",
    "        # Calculate required height for the paragraph\n",
    "        width, height = summary_paragraph.wrap(500, 800)\n",
    "\n",
    "        # Check if the line will fit on the current page\n",
    "        if y_position < 50 + height:\n",
    "            # If not, create a new page\n",
    "            c.showPage()\n",
    "            y_position = letter[1] - 50  # Reset y position for new page\n",
    "        \n",
    "        # Draw the paragraph on the canvas\n",
    "        summary_paragraph.drawOn(c, 50, y_position - height + 10)\n",
    "        \n",
    "        # Update y_position to move to the next section\n",
    "        y_position -= height + 10  # Add extra space after the paragraph\n",
    "    \n",
    "    # Save the PDF file\n",
    "    c.save()"
   ]
  },
  {
   "cell_type": "code",
   "execution_count": 544,
   "metadata": {},
   "outputs": [],
   "source": [
    "# Specify the path to your PDF file\n",
    "pdf_filename = f\"../data/patients/pdfs/{random_key}_pdf_{transcripts_version}.pdf\""
   ]
  },
  {
   "cell_type": "code",
   "execution_count": 545,
   "metadata": {},
   "outputs": [
    {
     "name": "stdout",
     "output_type": "stream",
     "text": [
      "PDF created: ../data/patients/pdfs/14807966_pdf_1.0.pdf\n"
     ]
    }
   ],
   "source": [
    "# Call the function to create the PDF\n",
    "create_patient_report(random_key, result_dict, pdf_filename)\n",
    "print(f\"PDF created: {pdf_filename}\")"
   ]
  },
  {
   "cell_type": "markdown",
   "metadata": {},
   "source": [
    "## Generate Summaries & PDFs for All Patients in Trascripts File"
   ]
  },
  {
   "cell_type": "code",
   "execution_count": 546,
   "metadata": {},
   "outputs": [],
   "source": [
    "# Specify the path to your new summaries JSON file\n",
    "summary_json_file_path = f\"../data/patients/patients_{transcripts_version}_summaries.json\""
   ]
  },
  {
   "cell_type": "code",
   "execution_count": 547,
   "metadata": {},
   "outputs": [],
   "source": [
    "def get_llm_summary(transcript):\n",
    "    parser = StrOutputParser()\n",
    "\n",
    "    prompt_template = ChatPromptTemplate.from_messages(\n",
    "        [(\"system\", system_message_summarize_detailed), (\"user\", transcript)]\n",
    "    )\n",
    "    \n",
    "    chain = prompt_template | model | parser\n",
    "    \n",
    "    summary = chain.invoke({\"system\": system_message_summarize_detailed, \"text\": transcript})\n",
    "\n",
    "    return summary"
   ]
  },
  {
   "cell_type": "code",
   "execution_count": 548,
   "metadata": {},
   "outputs": [
    {
     "name": "stdout",
     "output_type": "stream",
     "text": [
      "Generating summary for patient 12305811\n",
      "Success\n",
      "Generating summary for patient 14185111\n",
      "Success\n",
      "Generating summary for patient 10339317\n",
      "Success\n",
      "Generating summary for patient 14807966\n",
      "Success\n",
      "Generating summary for patient 13912736\n",
      "Success\n",
      "Generating summary for patient 15338322\n",
      "Success\n",
      "Generating summary for patient 13166275\n",
      "Success\n",
      "Generating summary for patient 18136989\n",
      "Success\n",
      "Generating summary for patient 15345003\n",
      "Success\n",
      "Generating summary for patient 17707918\n",
      "Attempt 1 failed\n",
      "Success\n",
      "Generating summary for patient 17566649\n",
      "Success\n",
      "Generating summary for patient 19516114\n",
      "Success\n",
      "Generating summary for patient 19557627\n",
      "Success\n",
      "Generating summary for patient 11242742\n",
      "Attempt 1 failed\n",
      "Success\n",
      "Generating summary for patient 12390274\n",
      "Success\n",
      "Generating summary for patient 11080025\n",
      "Success\n",
      "Generating summary for patient 14540393\n",
      "Success\n",
      "Generating summary for patient 12807868\n",
      "Success\n",
      "Generating summary for patient 13727153\n",
      "Success\n",
      "Generating summary for patient 13727871\n",
      "Success\n"
     ]
    }
   ],
   "source": [
    "summaries = {}\n",
    "\n",
    "for p_id in patients:\n",
    "    summary = {}\n",
    "    tries = 0\n",
    "    no_parseable_summary = True\n",
    "\n",
    "    p_transcript = patients[p_id]['chat_transcript']\n",
    "\n",
    "    print(f\"Generating summary for patient {p_id}\")\n",
    "\n",
    "    while no_parseable_summary and tries < 10:\n",
    "        llm_summary_result = get_llm_summary(p_transcript)\n",
    "        \n",
    "        try:\n",
    "            result_dict = json.loads(str(llm_summary_result))\n",
    "            no_parseable_summary = False\n",
    "        except:\n",
    "            tries +=1\n",
    "            print(f\"Attempt {tries} failed\")\n",
    "\n",
    "    if tries >= 10:\n",
    "        raise NotImplementedError(\"LLM did not produce parseable summary in first 10 attempts.\")\n",
    "    \n",
    "    summary['id'] = p_id\n",
    "    summary['summary'] = result_dict\n",
    "\n",
    "    summaries[str(p_id)] = summary\n",
    "\n",
    "    print(\"Success\")"
   ]
  },
  {
   "cell_type": "code",
   "execution_count": 549,
   "metadata": {},
   "outputs": [
    {
     "name": "stdout",
     "output_type": "stream",
     "text": [
      "Generating PDF for patient 12305811\n",
      "PDF created: ../data/patients/pdfs/12305811_pdf_1.0.pdf\n",
      "Generating PDF for patient 14185111\n",
      "PDF created: ../data/patients/pdfs/14185111_pdf_1.0.pdf\n",
      "Generating PDF for patient 10339317\n",
      "PDF created: ../data/patients/pdfs/10339317_pdf_1.0.pdf\n",
      "Generating PDF for patient 14807966\n",
      "PDF created: ../data/patients/pdfs/14807966_pdf_1.0.pdf\n",
      "Generating PDF for patient 13912736\n",
      "PDF created: ../data/patients/pdfs/13912736_pdf_1.0.pdf\n",
      "Generating PDF for patient 15338322\n",
      "PDF created: ../data/patients/pdfs/15338322_pdf_1.0.pdf\n",
      "Generating PDF for patient 13166275\n",
      "PDF created: ../data/patients/pdfs/13166275_pdf_1.0.pdf\n",
      "Generating PDF for patient 18136989\n",
      "PDF created: ../data/patients/pdfs/18136989_pdf_1.0.pdf\n",
      "Generating PDF for patient 15345003\n",
      "PDF created: ../data/patients/pdfs/15345003_pdf_1.0.pdf\n",
      "Generating PDF for patient 17707918\n",
      "PDF created: ../data/patients/pdfs/17707918_pdf_1.0.pdf\n",
      "Generating PDF for patient 17566649\n",
      "PDF created: ../data/patients/pdfs/17566649_pdf_1.0.pdf\n",
      "Generating PDF for patient 19516114\n",
      "PDF created: ../data/patients/pdfs/19516114_pdf_1.0.pdf\n",
      "Generating PDF for patient 19557627\n",
      "PDF created: ../data/patients/pdfs/19557627_pdf_1.0.pdf\n",
      "Generating PDF for patient 11242742\n",
      "PDF created: ../data/patients/pdfs/11242742_pdf_1.0.pdf\n",
      "Generating PDF for patient 12390274\n",
      "PDF created: ../data/patients/pdfs/12390274_pdf_1.0.pdf\n",
      "Generating PDF for patient 11080025\n",
      "PDF created: ../data/patients/pdfs/11080025_pdf_1.0.pdf\n",
      "Generating PDF for patient 14540393\n",
      "PDF created: ../data/patients/pdfs/14540393_pdf_1.0.pdf\n",
      "Generating PDF for patient 12807868\n",
      "PDF created: ../data/patients/pdfs/12807868_pdf_1.0.pdf\n",
      "Generating PDF for patient 13727153\n",
      "PDF created: ../data/patients/pdfs/13727153_pdf_1.0.pdf\n",
      "Generating PDF for patient 13727871\n",
      "PDF created: ../data/patients/pdfs/13727871_pdf_1.0.pdf\n"
     ]
    }
   ],
   "source": [
    "# Generate PDFs\n",
    "\n",
    "for key in summaries.keys():\n",
    "    print(f\"Generating PDF for patient {key}\")\n",
    "    # Specify the path to your JSON file\n",
    "    pdf_filename = f\"../data/patients/pdfs/{key}_pdf_{transcripts_version}.pdf\"\n",
    "\n",
    "    # Call the function to create the PDF\n",
    "    create_patient_report(key, summaries[key][\"summary\"], pdf_filename)\n",
    "    print(f\"PDF created: {pdf_filename}\")"
   ]
  },
  {
   "cell_type": "code",
   "execution_count": 550,
   "metadata": {},
   "outputs": [],
   "source": [
    "# Write summaries to JSON\n",
    "\n",
    "summaries_json_file_name = f\"../data/patients/patients_{transcripts_version}_summaries.json\"\n",
    "\n",
    "with open(summaries_json_file_name, 'w') as json_file:\n",
    "    json.dump(summaries, json_file)"
   ]
  }
 ],
 "metadata": {
  "kernelspec": {
   "display_name": "reco-analysis-opEH7KmU-py3.11",
   "language": "python",
   "name": "python3"
  },
  "language_info": {
   "codemirror_mode": {
    "name": "ipython",
    "version": 3
   },
   "file_extension": ".py",
   "mimetype": "text/x-python",
   "name": "python",
   "nbconvert_exporter": "python",
   "pygments_lexer": "ipython3",
   "version": "3.11.7"
  }
 },
 "nbformat": 4,
 "nbformat_minor": 2
}
