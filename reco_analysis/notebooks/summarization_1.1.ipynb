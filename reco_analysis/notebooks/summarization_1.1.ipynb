{
 "cells": [
  {
   "cell_type": "markdown",
   "metadata": {},
   "source": [
    "# Import and Setup"
   ]
  },
  {
   "cell_type": "code",
   "execution_count": 225,
   "metadata": {},
   "outputs": [],
   "source": [
    "# Import necessary libraries\n",
    "import os\n",
    "import json\n",
    "import random\n",
    "from dotenv import load_dotenv\n",
    "from langchain import LLMChain\n",
    "from langchain_openai import ChatOpenAI\n",
    "from langchain.prompts import ChatPromptTemplate\n",
    "from langchain.schema.output_parser import StrOutputParser\n",
    "from langchain_openai import ChatOpenAI"
   ]
  },
  {
   "cell_type": "code",
   "execution_count": 226,
   "metadata": {},
   "outputs": [],
   "source": [
    "# Load API keys from .env file\n",
    "# Replace this with the path to where your .env file is, which should contain openAI API keys as well as other necessary environment variables\n",
    "# Env file should contain something like this:\n",
    "# OPENAI_API_KEY=your openai api key\n",
    "# OPENAI_ORG_ID=your org id\n",
    "# LANGCHAIN_TRACING_V2='true'\n",
    "# LANGCHAIN_ENDPOINT=\"https://api.smith.langchain.com\"\n",
    "# LANGCHAIN_API_KEY=your langchain api key\n",
    "# LANGCHAIN_PROJECT=the project name you want to use\n",
    "load_dotenv(\"../.env\") \n",
    "\n",
    "# Set environment variables for LangChain\n",
    "os.environ[\"LANGCHAIN_TRACING_V2\"] = os.getenv(\"LANGCHAIN_TRACING_V2\")\n",
    "os.environ[\"LANGCHAIN_ENDPOINT\"] = os.getenv(\"LANGCHAIN_ENDPOINT\")\n",
    "os.environ[\"LANGCHAIN_API_KEY\"] = os.getenv(\"LANGCHAIN_API_KEY\")\n",
    "os.environ[\"LANGCHAIN_PROJECT\"] = os.getenv(\"LANGCHAIN_PROJECT\")\n",
    "os.environ[\"OPENAI_API_KEY\"] = os.getenv(\"OPENAI_API_KEY\")"
   ]
  },
  {
   "cell_type": "code",
   "execution_count": 227,
   "metadata": {},
   "outputs": [],
   "source": [
    "# Set up the OpenAI model\n",
    "model = ChatOpenAI(temperature=0.7, model_name='gpt-3.5-turbo')"
   ]
  },
  {
   "cell_type": "code",
   "execution_count": 228,
   "metadata": {},
   "outputs": [],
   "source": [
    "### Specify patient transcript file to read in\n",
    "transcripts_version = 1.0"
   ]
  },
  {
   "cell_type": "markdown",
   "metadata": {},
   "source": [
    "# System Prompts"
   ]
  },
  {
   "cell_type": "code",
   "execution_count": 229,
   "metadata": {},
   "outputs": [],
   "source": [
    "system_message_summarize_detailed = \"\"\"\n",
    "\n",
    "You are a medical assistant tasked with reviewing a transcript of a conversation between a patient and their doctor. You will be provided a transcript. The doctor has asked you to write up a summary of the transcript in the format outlined below. Include section headings and use bullet points. Add context to symptoms where appropriate, but be brief. List specific medications by name under the appropriate medication category. Do not add any information that is not present in the transcript.\n",
    "\n",
    "Patient Introduction:\n",
    "    - Write a one sentence summary including the patient's name and their primary symptom or chief complaint\n",
    "\n",
    "Current Symptoms (Note: Determine which symptoms from the list below are present and not present. Only list those present in the transcript.):\n",
    "     - Dyspnea\n",
    "     - Paroxysmal Nocturnal Dyspnea (PND)\n",
    "     - Orthopnea\n",
    "     - Edema\n",
    "     - Nocturnal Cough\n",
    "     - Chest Pain\n",
    "     - Fatigue and Mental Status\n",
    "\n",
    "Vital Signs\n",
    "     - Temperature (°F): \n",
    "     - Heart Rate (BPM): \n",
    "     - Respiratory Rate (breaths per minute):\n",
    "     - Oxygen Saturation: \n",
    "     - Blood Pressure: \n",
    "     - Weight (in lbs): \n",
    "\n",
    "Current Medications:\n",
    "     - List the medications the patient is taking\n",
    "\n",
    "Summary:\n",
    "     - Write a one or two sentence summary of the conversation. \n",
    "     - Avoid making any diagnoses; just report facts. \n",
    "     - Each new sentence should be a new bullet point.\n",
    "\n",
    "\"\"\""
   ]
  },
  {
   "cell_type": "markdown",
   "metadata": {},
   "source": [
    "# Load Transcripts Data"
   ]
  },
  {
   "cell_type": "code",
   "execution_count": 230,
   "metadata": {},
   "outputs": [],
   "source": [
    "## Load patient data\n",
    "\n",
    "# Specify the path to your JSON file\n",
    "json_file_path = f\"../data/patients/patients_{transcripts_version}_with_transcripts.json\"\n",
    "\n",
    "# Open and read the JSON file\n",
    "with open(json_file_path, 'r') as json_file:\n",
    "    patients = json.load(json_file)"
   ]
  },
  {
   "cell_type": "code",
   "execution_count": 231,
   "metadata": {},
   "outputs": [],
   "source": [
    "random_key = random.choice(list(patients.keys()))"
   ]
  },
  {
   "cell_type": "code",
   "execution_count": 242,
   "metadata": {},
   "outputs": [],
   "source": [
    "patient_transcript = patients[random_key]['chat_transcript']\n",
    "\n",
    "#for line in patient_transcript:\n",
    "#    print(line)"
   ]
  },
  {
   "cell_type": "code",
   "execution_count": 233,
   "metadata": {},
   "outputs": [],
   "source": [
    "patient_transcript_string = \"\"\n",
    "\n",
    "for line in patient_transcript:\n",
    "    patient_transcript_string = patient_transcript_string + line"
   ]
  },
  {
   "cell_type": "markdown",
   "metadata": {},
   "source": [
    "# Generate Example Summary"
   ]
  },
  {
   "cell_type": "code",
   "execution_count": 234,
   "metadata": {},
   "outputs": [],
   "source": [
    "parser = StrOutputParser()"
   ]
  },
  {
   "cell_type": "code",
   "execution_count": 235,
   "metadata": {},
   "outputs": [],
   "source": [
    "prompt_template = ChatPromptTemplate.from_messages(\n",
    "    [(\"system\", system_message_summarize_detailed), (\"user\", patient_transcript)]\n",
    ")"
   ]
  },
  {
   "cell_type": "code",
   "execution_count": 236,
   "metadata": {},
   "outputs": [],
   "source": [
    "chain = prompt_template | model | parser"
   ]
  },
  {
   "cell_type": "code",
   "execution_count": 237,
   "metadata": {},
   "outputs": [],
   "source": [
    "result = chain.invoke({\"system\": system_message_summarize_detailed, \"text\": patient_transcript})"
   ]
  },
  {
   "cell_type": "code",
   "execution_count": 238,
   "metadata": {},
   "outputs": [
    {
     "name": "stdout",
     "output_type": "stream",
     "text": [
      "Patient Introduction:\n",
      "- Gregory Reynolds is experiencing shortness of breath, especially with activity.\n",
      "\n",
      "Current Symptoms:\n",
      "- Dyspnea (shortness of breath with activity)\n",
      "- Fatigue\n",
      "- Trouble sleeping\n",
      "- Feeling down\n",
      "- Lightheadedness upon standing\n",
      "\n",
      "Vital Signs\n",
      "- Temperature (°F): 98.4\n",
      "- Heart Rate (BPM): 106\n",
      "- Respiratory Rate (breaths per minute): 18\n",
      "- Oxygen Saturation: 99.0%\n",
      "- Blood Pressure: 114/57\n",
      "\n",
      "Current Medications:\n",
      "- Carvedilol (Beta-Blocker)\n",
      "- Nitroglycerin\n",
      "- Aspirin\n",
      "- Metolazone\n",
      "- Dronedarone\n",
      "\n",
      "Summary:\n",
      "- Gregory Reynolds is experiencing dyspnea mainly with activity, fatigue, trouble sleeping, feeling down, and lightheadedness upon standing.\n",
      "- He is currently taking Carvedilol, Nitroglycerin, Aspirin, Metolazone, and Dronedarone for his heart condition.\n",
      "- Vital signs including temperature, heart rate, respiratory rate, oxygen saturation, and blood pressure were within normal ranges during the visit.\n"
     ]
    }
   ],
   "source": [
    "print(result)"
   ]
  },
  {
   "cell_type": "markdown",
   "metadata": {},
   "source": [
    "## Generate Summaries for All Patients in Transcripts File"
   ]
  },
  {
   "cell_type": "code",
   "execution_count": 239,
   "metadata": {},
   "outputs": [],
   "source": [
    "# Specify the path to your new summaries JSON file\n",
    "summary_json_file_path = f\"../data/patients/patients_{transcripts_version}_summaries.json\""
   ]
  },
  {
   "cell_type": "code",
   "execution_count": 240,
   "metadata": {},
   "outputs": [],
   "source": [
    "summaries = {}\n",
    "\n",
    "for p_id in patients:\n",
    "    summary = {}\n",
    "\n",
    "    summary['id'] = p_id\n",
    "\n",
    "    parser = StrOutputParser()\n",
    "    prompt_template = ChatPromptTemplate.from_messages(\n",
    "        [(\"system\", system_message_summarize_detailed), (\"user\", patients[p_id]['chat_transcript'])]\n",
    "    )\n",
    "    chain = prompt_template | model | parser\n",
    "\n",
    "    summary['summary'] = chain.invoke({\"system\": system_message_summarize_detailed, \"text\": patients[p_id]['chat_transcript']})\n",
    "\n",
    "    summaries[str(p_id)] = summary"
   ]
  },
  {
   "cell_type": "code",
   "execution_count": 241,
   "metadata": {},
   "outputs": [],
   "source": [
    "summaries_json_file_name = f\"../data/patients/patients_{transcripts_version}_summaries.json\"\n",
    "\n",
    "with open(summaries_json_file_name, 'w') as json_file:\n",
    "    json.dump(summaries, json_file)"
   ]
  }
 ],
 "metadata": {
  "kernelspec": {
   "display_name": "reco-analysis-opEH7KmU-py3.11",
   "language": "python",
   "name": "python3"
  },
  "language_info": {
   "codemirror_mode": {
    "name": "ipython",
    "version": 3
   },
   "file_extension": ".py",
   "mimetype": "text/x-python",
   "name": "python",
   "nbconvert_exporter": "python",
   "pygments_lexer": "ipython3",
   "version": "3.11.7"
  }
 },
 "nbformat": 4,
 "nbformat_minor": 2
}
