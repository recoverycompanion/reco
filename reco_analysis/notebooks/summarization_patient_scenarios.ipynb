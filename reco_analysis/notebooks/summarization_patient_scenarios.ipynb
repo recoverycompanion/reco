{
 "cells": [
  {
   "cell_type": "markdown",
   "metadata": {},
   "source": [
    "# Generate Experiment Summaries"
   ]
  },
  {
   "cell_type": "markdown",
   "metadata": {},
   "source": [
    "This notebook creates summaries for the transcripts generated in the chatbot_patient_scenarios notebook."
   ]
  },
  {
   "cell_type": "markdown",
   "metadata": {},
   "source": [
    "### Import and Setup"
   ]
  },
  {
   "cell_type": "code",
   "execution_count": 128,
   "metadata": {},
   "outputs": [],
   "source": [
    "# Import necessary libraries\n",
    "import os\n",
    "import random\n",
    "import copy\n",
    "import datetime\n",
    "import json\n",
    "import typing\n",
    "from dotenv import load_dotenv\n",
    "from langchain.prompts import ChatPromptTemplate\n",
    "from langchain_core.messages import BaseMessage\n",
    "from langchain_openai import ChatOpenAI\n",
    "from PIL import Image as PILImage\n",
    "from reportlab.lib.pagesizes import letter\n",
    "from reportlab.lib.styles import getSampleStyleSheet\n",
    "from reportlab.pdfgen import canvas\n",
    "from reportlab.platypus import Paragraph\n",
    "\n",
    "\n",
    "from reco_analysis.data_model import data_models\n",
    "from reco_analysis.summarizer_app import post_office, report_maker, summarizer_engine, data_type\n",
    "from reco_analysis.summarizer_app.prompts import system_message_summarize_json\n",
    "\n"
   ]
  },
  {
   "cell_type": "code",
   "execution_count": 129,
   "metadata": {},
   "outputs": [
    {
     "data": {
      "text/plain": [
       "True"
      ]
     },
     "execution_count": 129,
     "metadata": {},
     "output_type": "execute_result"
    }
   ],
   "source": [
    "load_dotenv(\"../.env\") "
   ]
  },
  {
   "cell_type": "code",
   "execution_count": 10,
   "metadata": {},
   "outputs": [],
   "source": [
    "default_model = ChatOpenAI(temperature=0.0, model_name=\"gpt-3.5-turbo\")"
   ]
  },
  {
   "cell_type": "code",
   "execution_count": 23,
   "metadata": {},
   "outputs": [],
   "source": [
    "logo_path = f\"../docs/reco_logo.jpeg\""
   ]
  },
  {
   "cell_type": "markdown",
   "metadata": {},
   "source": [
    "### Set Up and Test Summary & PDF Generators"
   ]
  },
  {
   "cell_type": "markdown",
   "metadata": {},
   "source": [
    "#### Set Up Functions"
   ]
  },
  {
   "cell_type": "code",
   "execution_count": 11,
   "metadata": {},
   "outputs": [],
   "source": [
    "def summarize(\n",
    "    patient_transcript: list[str],\n",
    "    model: ChatOpenAI = default_model,\n",
    "    system_prompt: str = system_message_summarize_json,\n",
    ") -> typing.Tuple[data_type.TranscriptSummary, BaseMessage]:\n",
    "    \"\"\"Summarizes a patient transcript.\n",
    "\n",
    "    Args:\n",
    "        patient_transcript (list[str]): The patient transcript to summarize.\n",
    "        model (ChatOpenAI, optional): The model to use for summarization.\n",
    "            Defaults to default_model.\n",
    "        system_prompt (str, optional): The system prompt to use.\n",
    "    \"\"\"\n",
    "    prompt_template = ChatPromptTemplate.from_messages(\n",
    "        [\n",
    "            (\"system\", system_prompt),\n",
    "            (\"user\", \"\\n\".join(patient_transcript)),\n",
    "        ]\n",
    "    )\n",
    "\n",
    "    response = model.invoke(prompt_template.format_messages())\n",
    "    result_summary = response.content\n",
    "\n",
    "    try:\n",
    "        # Process the result, remove markdown and convert to JSON\n",
    "        processed_result = json.loads(\n",
    "            result_summary.replace(\"```json\", \"\").replace(\"```\", \"\").replace(\"\\n\", \"\")\n",
    "        )\n",
    "        vitals: typing.Dict[str, typing.Any] = processed_result[\"vital_signs\"]\n",
    "\n",
    "        def get_vital(vital_name: str) -> typing.Any:\n",
    "            ret = vitals.get(vital_name, None)\n",
    "            if not isinstance(ret, (int, float)):\n",
    "                return None\n",
    "            return ret\n",
    "\n",
    "        return (\n",
    "            data_type.TranscriptSummary(\n",
    "                patient_overview=processed_result[\"patient_overview\"],\n",
    "                current_symptoms=processed_result[\"current_symptoms\"],\n",
    "                vital_signs=data_type.VitalSigns(\n",
    "                    temperature=get_vital(\"temperature\"),\n",
    "                    heart_rate=get_vital(\"heart_rate\"),\n",
    "                    respiratory_rate=get_vital(\"respiratory_rate\"),\n",
    "                    oxygen_saturation=get_vital(\"oxygen_saturation\"),\n",
    "                    blood_pressure_systolic=get_vital(\"blood_pressure_systolic\"),\n",
    "                    blood_pressure_diastolic=get_vital(\"blood_pressure_diastolic\"),\n",
    "                    weight=get_vital(\"weight\"),\n",
    "                ),\n",
    "                current_medications=processed_result[\"current_medications\"],\n",
    "                summary=processed_result[\"summary\"],\n",
    "            ),\n",
    "            response,\n",
    "        )\n",
    "\n",
    "    except json.JSONDecodeError as e:\n",
    "        raise ValueError(\"Failed to decode JSON from model output\") from e"
   ]
  },
  {
   "cell_type": "code",
   "execution_count": 49,
   "metadata": {},
   "outputs": [],
   "source": [
    "def create_patient_report(\n",
    "    summary_data: data_type.TranscriptSummary,\n",
    "    transcript: list[str],\n",
    "    output_filename: str | None = None,\n",
    ") -> bytes:\n",
    "    \"\"\"Create a PDF report summarizing the patient's conversation with the virtual doctor.\n",
    "\n",
    "    Args:\n",
    "        summary_data (data_type.TranscriptSummary): The summary data of the patient's conversation.\n",
    "        transcript (list[str]): The transcript of the patient's conversation.\n",
    "        output_filename (str): The output filename for the PDF report.\n",
    "\n",
    "    Returns:\n",
    "        A file object of the PDF report.\n",
    "    \"\"\"\n",
    "    c = canvas.Canvas(output_filename, pagesize=letter)\n",
    "\n",
    "    logo = PILImage.open(logo_path)\n",
    "    img_width, img_height = logo.size\n",
    "\n",
    "    first_comma_pos = transcript[0].find(\",\")\n",
    "    patient_name = transcript[0][14:first_comma_pos]\n",
    "    patient_first_name = patient_name.split(\" \")[0]\n",
    "    patient_last_name = patient_name.split(\" \")[1]\n",
    "\n",
    "    # Set font styles\n",
    "    title_style = \"Helvetica-Bold\"\n",
    "    section_title_style = \"Helvetica-Bold\"\n",
    "    section_content_style = \"Helvetica\"\n",
    "\n",
    "    # Draw logo and title\n",
    "    title = \"RECO Patient Report\"\n",
    "    c.setFont(title_style, 18)\n",
    "    c.drawImage(logo_path, 50, 720, width=img_width / 4, height=img_height / 4)\n",
    "    c.drawString(88, 727, title)\n",
    "    c.line(50, 710, 550, 710)  # Draw a line under the title\n",
    "\n",
    "    # Draw patient name and conversation date\n",
    "    c.setFont(section_content_style, 11)\n",
    "    c.drawString(50, 695, f\"Patient: {patient_first_name}, {patient_last_name.upper()}\")\n",
    "    c.drawString(\n",
    "        50,\n",
    "        680,\n",
    "        f\"\", # Removed conversation date for batch jobs\n",
    "    )\n",
    "\n",
    "    # Vertical position for content\n",
    "    y_position = 665\n",
    "\n",
    "    # Define paragraph styles\n",
    "    styles = getSampleStyleSheet()\n",
    "    body_style = styles[\"Normal\"]\n",
    "    body_style.fontName = \"Helvetica\"\n",
    "    body_style.fontSize = 11\n",
    "    body_style.leading = 14\n",
    "\n",
    "    bulleted_body_style = copy.deepcopy(body_style)\n",
    "    bulleted_body_style.leftIndent = 10\n",
    "\n",
    "    def start_new_page_if_needed(new_height):\n",
    "        \"\"\"Check if the line will fit on the current page, if not, start a new page\"\"\"\n",
    "        nonlocal y_position\n",
    "        if y_position - new_height < 50:\n",
    "            c.showPage()\n",
    "            y_position = letter[1] - 50\n",
    "\n",
    "    vitals_lines = \"\\n\".join(\n",
    "        [\n",
    "            f\"Temperature: {summary_data.vital_signs.temperature or 'N/A'} °F\",\n",
    "            f\"Heart Rate: {summary_data.vital_signs.heart_rate or 'N/A'} bpm\",\n",
    "            f\"Respiratory Rate: {summary_data.vital_signs.respiratory_rate or 'N/A'} bpm\",\n",
    "            f\"Oxygen Saturation: {summary_data.vital_signs.oxygen_saturation or 'N/A'} %\",\n",
    "            (\n",
    "                \"Blood Pressure: \"\n",
    "                + (\n",
    "                    f\"{summary_data.vital_signs.blood_pressure_systolic}/{summary_data.vital_signs.blood_pressure_diastolic}\"\n",
    "                    if summary_data.vital_signs.blood_pressure_systolic\n",
    "                    and summary_data.vital_signs.blood_pressure_diastolic\n",
    "                    else \"N/A\"\n",
    "                )\n",
    "            ),\n",
    "            f\"Weight: {summary_data.vital_signs.weight or 'N/A'} lbs\",\n",
    "        ]\n",
    "    )\n",
    "\n",
    "    # Iterate through the sections and draw each section\n",
    "    for key, value in [\n",
    "        (\"Patient Overview\", summary_data.patient_overview),\n",
    "        (\"Current Symptoms\", summary_data.current_symptoms),\n",
    "        (\"Vital Signs\", vitals_lines),\n",
    "        (\"Current Medications\", summary_data.current_medications),\n",
    "        (\"Summary\", summary_data.summary),\n",
    "    ]:\n",
    "        value = copy.deepcopy(value)\n",
    "\n",
    "        # Section title\n",
    "        c.setFont(section_title_style, 12)\n",
    "        y_position -= 20  # Move down 20 units\n",
    "        c.drawString(50, y_position, key.upper())\n",
    "\n",
    "        # Section content\n",
    "        c.setFont(section_content_style, 11)\n",
    "        y_position -= 20  # Move down another 20 units for content\n",
    "\n",
    "        if isinstance(value, str):  # patient overview, summary\n",
    "            summary_text = value.replace(\"\\n\", \"<br/>\")  # Replace newlines with HTML line breaks\n",
    "\n",
    "            if summary_text[-1] != \".\":\n",
    "                summary_text = summary_text + \".\"\n",
    "\n",
    "            summary_paragraph = Paragraph(summary_text, body_style)\n",
    "\n",
    "            width, height = summary_paragraph.wrap(500, 800)\n",
    "            start_new_page_if_needed(height)\n",
    "            summary_paragraph.drawOn(c, 50, y_position - height + 10)\n",
    "            y_position -= height  # Add extra space after the paragraph\n",
    "\n",
    "        elif isinstance(value, list):  # current symptoms, current medications\n",
    "            for line in value:\n",
    "                bulleted_paragraph = Paragraph(line, bulleted_body_style, bulletText=\"•\")\n",
    "                width, height = bulleted_paragraph.wrap(500, 800)\n",
    "                start_new_page_if_needed(height)\n",
    "                bulleted_paragraph.drawOn(c, 50, y_position - height + 10)\n",
    "                y_position -= height\n",
    "\n",
    "    # Add the transcript to the end of the file\n",
    "    c.showPage()  # Start a new page\n",
    "    y_position = letter[1] - 50  # Reset y position for new page\n",
    "\n",
    "    section_title = \"Transcript\"\n",
    "    c.setFont(section_title_style, 12)\n",
    "    y_position -= 20  # Move down 20 units\n",
    "    c.drawString(50, y_position, section_title.upper())\n",
    "\n",
    "    # Section content\n",
    "    c.setFont(section_content_style, 11)\n",
    "    y_position -= 20  # Move down another 20 units for content\n",
    "\n",
    "    for transcript_line in transcript:\n",
    "        # Create a paragraph with the summary text\n",
    "        summary_text = transcript_line.replace(\"\\n\", \"<br/>\")\n",
    "\n",
    "        if \"Doctor\" in summary_text[:6]:\n",
    "            summary_text = \"DOCTOR\" + summary_text[6:]\n",
    "        if \"Patient\" in summary_text[:7]:\n",
    "            summary_text = \"PATIENT\" + summary_text[7:]\n",
    "\n",
    "        summary_paragraph = Paragraph(summary_text, body_style)\n",
    "        width, height = summary_paragraph.wrap(500, 800)\n",
    "\n",
    "        start_new_page_if_needed(height)\n",
    "        summary_paragraph.drawOn(c, 50, y_position - height + 10)\n",
    "        y_position -= height + 10\n",
    "\n",
    "    # Save the PDF file\n",
    "    if output_filename:\n",
    "        c.save()\n",
    "\n",
    "    return c.getpdfdata()"
   ]
  },
  {
   "cell_type": "code",
   "execution_count": 44,
   "metadata": {},
   "outputs": [],
   "source": [
    "def path_maker(\n",
    "        type: typing.Literal['transcripts', 'transcripts_eval', 'transcripts_eval_improvements', 'summaries', 'summaries_eval', 'summaries_eval_improvements', 'pdfs'],\n",
    "        transcript_type: typing.Literal['full', 'short'],\n",
    "        model_name: typing.Literal['3.5', '4o-mini', '4o'],\n",
    "        patient_prompt: typing.Literal['base', 'reluctant', 'distracted'],\n",
    "        doctor_prompt: typing.Literal['base', 'improved']\n",
    "):\n",
    "    \"\"\"\n",
    "    Creates a path for saving or loading files based on the type of file and the model and prompt used.\n",
    "    \n",
    "    Args:\n",
    "        type: The type of file to create the path for (either 'transcripts', 'transcripts_eval', 'transcripts_eval_improvements', 'summaries', 'summaries_eval', 'summaries_eval_improvements').\n",
    "        transcript_type: The type of transcript to create the path for (either 'full' or 'short'). Full is the full chat transcript, while short is the extracted chat transcript.\n",
    "        model_name: The name of the model used in the transcript.\n",
    "        patient_prompt: The type of patient prompt used in the transcript.\n",
    "        doctor_prompt: The type of doctor prompt used in the transcript.\n",
    "    \"\"\"\n",
    "    # Set the folder path depending on type\n",
    "    if type == 'transcripts':\n",
    "        folder_path = '../data/transcripts'\n",
    "    elif type in ['transcripts_eval', 'transcripts_eval_improvements']:\n",
    "        folder_path = '../data/evaluations/transcripts'\n",
    "    elif type == 'summaries':\n",
    "        folder_path = '../data/summaries'\n",
    "    elif type in ['summaries_eval', 'summaries_eval_improvements']:\n",
    "        folder_path = '../data/evaluations/summaries'\n",
    "    elif type in ['pdfs']:\n",
    "        folder_path = '../data/pdfs'\n",
    "\n",
    "    # Reformat fields\n",
    "    model_name = 'gpt' + model_name.replace('4o-mini', '4o-m')\n",
    "    patient_prompt = patient_prompt[:4] + 'pat'   \n",
    "    doctor_prompt = doctor_prompt[:4] + 'doc'\n",
    "\n",
    "    # Set to csv if this is a eval file\n",
    "    if type in ['transcripts_eval', 'summaries_eval']:\n",
    "        extension = 'csv'\n",
    "    else:\n",
    "        extension = 'json'\n",
    "\n",
    "    # Pdfs are unique\n",
    "    if type in ['pdfs']:\n",
    "        return f\"{folder_path}/{type}_{transcript_type}_{model_name}_{patient_prompt}_{doctor_prompt}/\"\n",
    "\n",
    "    return f\"{folder_path}/{type}_{transcript_type}_{model_name}_{patient_prompt}_{doctor_prompt}.{extension}\""
   ]
  },
  {
   "cell_type": "markdown",
   "metadata": {},
   "source": [
    "#### Test Using a Random Patient"
   ]
  },
  {
   "cell_type": "code",
   "execution_count": 62,
   "metadata": {},
   "outputs": [],
   "source": [
    "TRANSCRIPTS_1_PATH = path_maker('transcripts', 'full', '3.5', 'base', 'base')\n",
    "TRANSCRIPTS_1_PDF_PATH = path_maker('pdfs', 'full', '3.5', 'base', 'base')"
   ]
  },
  {
   "cell_type": "code",
   "execution_count": 63,
   "metadata": {},
   "outputs": [
    {
     "name": "stdout",
     "output_type": "stream",
     "text": [
      "../data/pdfs/pdfs_full_gpt3.5_basepat_basedoc/\n"
     ]
    }
   ],
   "source": [
    "print(TRANSCRIPTS_1_PDF_PATH)"
   ]
  },
  {
   "cell_type": "code",
   "execution_count": 64,
   "metadata": {},
   "outputs": [
    {
     "name": "stdout",
     "output_type": "stream",
     "text": [
      "Directory '../data/pdfs/pdfs_full_gpt3.5_basepat_basedoc/' already exists.\n"
     ]
    }
   ],
   "source": [
    "if not os.path.exists(TRANSCRIPTS_1_PDF_PATH):\n",
    "    # Create the directory if it doesn't exist\n",
    "    os.makedirs(TRANSCRIPTS_1_PDF_PATH)\n",
    "    print(f\"Directory '{TRANSCRIPTS_1_PDF_PATH}' created successfully.\")\n",
    "else:\n",
    "    print(f\"Directory '{TRANSCRIPTS_1_PDF_PATH}' already exists.\")"
   ]
  },
  {
   "cell_type": "code",
   "execution_count": 16,
   "metadata": {},
   "outputs": [],
   "source": [
    "# Open and read the JSON file\n",
    "with open(TRANSCRIPTS_1_PATH, 'r') as json_file:\n",
    "    patients = json.load(json_file)"
   ]
  },
  {
   "cell_type": "code",
   "execution_count": 18,
   "metadata": {},
   "outputs": [],
   "source": [
    "random_key = random.choice(list(patients.keys()))"
   ]
  },
  {
   "cell_type": "code",
   "execution_count": 52,
   "metadata": {},
   "outputs": [],
   "source": [
    "patient_transcript = patients[random_key]['chat_transcript']"
   ]
  },
  {
   "cell_type": "code",
   "execution_count": 24,
   "metadata": {},
   "outputs": [],
   "source": [
    "patient_summary = summarize(patient_transcript)"
   ]
  },
  {
   "cell_type": "code",
   "execution_count": 47,
   "metadata": {},
   "outputs": [],
   "source": [
    "# Specify the path to your PDF file\n",
    "pdf_filename = f\"{TRANSCRIPTS_1_PDF_PATH}TEST_{random_key}_pdf.pdf\""
   ]
  },
  {
   "cell_type": "code",
   "execution_count": 59,
   "metadata": {},
   "outputs": [
    {
     "data": {
      "text/plain": [
       "b'%PDF-1.4\\n%\\x93\\x8c\\x8b\\x9e ReportLab Generated PDF document http://www.reportlab.com\\n1 0 obj\\n<<\\n/F1 2 0 R /F2 3 0 R\\n>>\\nendobj\\n2 0 obj\\n<<\\n/BaseFont /Helvetica /Encoding /WinAnsiEncoding /Name /F1 /Subtype /Type1 /Type /Font\\n>>\\nendobj\\n3 0 obj\\n<<\\n/BaseFont /Helvetica-Bold /Encoding /WinAnsiEncoding /Name /F2 /Subtype /Type1 /Type /Font\\n>>\\nendobj\\n4 0 obj\\n<<\\n/BitsPerComponent 8 /ColorSpace /DeviceRGB /Filter [ /ASCII85Decode /DCTDecode ] /Height 100 /Length 15556 /Subtype /Image \\n  /Type /XObject /Width 100\\n>>\\nstream\\ns4IA0!\"_al8O`[\\\\!W`9l!([(is5<t#7<iNY!!#_f!%IsK!!iQ/!>5A7!!!!\"!!*\\'\"!?(qA!!!!\"!!!\"\"!?2\"B!!!!\"!!!\"*!@RpM!!!!\"!!3-#!YYP9!!!!\"!!*\\'\"LM6_k!!!!\"!!!\"2z!!!!i!!!!\"!!!!i!!!!\"!!eSc!!`K(!!Fu21,4ml!!`K(!!E<(!s\"to!!`K(!!Fu10JK.#!!<3$!!*\\'#!!&Yn!!E9%!!*\\'\"!fWcS!!E9%!!*\\'\"!hQ1l!!<3$!!*\\'\"zzs5FJ18OGjP:f:(Y8PDPQ!<E0#%1lreE,5Re!!$kRFE18L66KB5=s+(6!!N?;!!3-)!&.hkF)XEA:eUih!!#;]:eUihzzzzp=93Ezdk,!IE,5LSzzzzzzzzzzz!\"iaQF(51M!Diar!+KJ[@r22G!OMh,!U=06Ec_9]\"/#Vo!$c]0E-)\\'[\"2k0>!#0HU=]te*\"5!SR!#0\\'J=]te*\"7-!f!#/mE=]te*\"98E%!#0HQ;F:Ea\";Ch9#Rk-MEb>@P$m5NM!$HGpB64+R$pXdm!&/;$Bl3nN$uc1H!\\'Y7:De&hJ%\\'T^3!%<##B5dhN%+kO[!\\'\"Fe;F:Ea\";Ch9#Rk?F;F:Ea\";Ch9#Rk-M@V5Z@$m5NM!$G]YB4h2E$m5NM!$Gf`F(51Mz!!ku,F)Yr(GlRgEzzzzzzzzzzzzzzzzzzz!!$kPF^kCOz!%%[G!\"<O]85]Ef!\"o83!SD1+92Y`i!\"o83!SD:!:/:ii!\"o83!SD*sz!\"o83!SD(.86#Wi!\"o83!SCn\\'6WsHi!\"o83!SCpk6q[L[!\"o83!SD:+:.tWf!\"o83!SD!u7S*R[!\"o83!SD+.8Q5Zi!\"o83!SCt)78j0d!\"o83!SDF2;GR8m!\"o83!SD\")6U:\\\\P!\"o83!SCh$z!\"o83!SDO1<C$Tb!\"o83!SD\\'s8PB*a!\"o83!SD^3<*\\'&\"!\"o83!SDR0<_`Vp!\"o83!SDI/;bI)j!\"o83!SD^36V[U]!\"o83!SDF8;H3\\\\s!\"o83!SCt$7m[1U!\"o83!SD\")7T\\'3d!\"o83!SD71z!\"o83!SD(\"8PT6c!\"o83!SDL-<(Huh!\"o83!SCmj78j0d!\"o83!SCt$5udmb!\"o83!SCt)=A/\\\\p!\"o83!SCpo6q%(U!\"o83!SCt$<Drkt!\"o83!SD@56;dd`!\"o83!SD@-:eUih!\"o83!SCt\"7oB<e!\"o83!SDI:;agZd!\"o83!SDL7<)N\\\\r!\"o83!SD@5:fIDp!\"o83!SD-q8l,Kf!\"o83!S@B>!,hjR!,hjX!$D88!(-`S!!%+PG]Woc!!#B)E-ZJ<B4uB06#^dZAKXQ^@kK;T1,(I?!!$,(=s*eFzo+h<,!!!!\"(<T`^=s*eFzJk?\"C4V[qrs1DH:=s*eFz9T9#P[=/)U$M@M(=s*eFz-iX/H%;c(FaF%K?EcqE_z\"98E%!!N?0!\"T&D!#YbX!$_Il!%e1+!&ag=!\\'gNQ!(m5e!)rr$!+#Y8!,)@L!-/\\'`!.4ct!/:K3!0@2G!1En[!2BOm!3H7,!4Ms@!5SZT!6YAh!7_)(!8mk=!:\\'XS!;6Ei!<E3+!=]&C!>tn[!@7as!AX[8!BpNQ!DEMl!EfG2!G;FN!HeEj!J:E2!KmJP!MKOn!O2[9!PnfY!RUr$!T=(D!V-9f!WrK4!Yb\\\\V![[t%!]U6I!_WSo!aPk?!c\\\\9f!e^W8!gj%`!iuI3!l4r]!n@A1!p]p\\\\!rrE2!u:t^\"\"aU7\"%*/d\"\\'Pe=\"*+Km\",[2H\"/5n#\"1eTT\"4IA1\"7--c\"9nuB\"<[h!\"?Q`W\"B>S7\"E=Qn\"H3JP\"K2I3\"N1Gl\"Q9LQ\"TAQ6\"WR[r\"ZcfY\"]tq@\"a:-)\"dT=h\"gnNQ\"k<e<\"ni-)\"r7Cj\"uc`W#$D.F#($Q5#+Yt%#/CGj#3,p\\\\#6tJO#:g$B#>YS5#BU3*#FPgu#JUMl#NZ3c#R^n[#VlZT#[.LO#_E>J#c\\\\0E#gs\"A#l=o>#pfm=#u:k<$$ci<$)@m=$-rq>$2Y&A$7?0D$<.@I$@rPO$Ea`T$JZ![$O[=d$TSSl$Y^!!$^_=+$ci_7$i(2D$n;ZQ$sX3`%#tao%)<;)%.ao;%42NL%9a3_%?:ms%DrY3%JUDH%PA5_%V-\\'!%\\\\!s:%akjT%g`am%m^_4%sebP&$lem&*si6&1.rU&7H-!&=X6A&D%Kd&JGa2&Pj!U&W@=%&]kXK&dK$r&k*FD&qgmm\\'#P@B\\'*Amm\\'13FC\\'8$so\\'?(XH\\'F#7!\\'M0!R\\'T3[-\\'[@E^\\'bV6<\\'il&o\\'q5rO(#Ti0(+\\'eg(2ObI(:\"_,(A\\\\gf(I8jK(Prs2(Xa,o(`O;W(hFPA(p=e,)#>*m)+>EY)3GfG);Q26)CcY&)L!*k)T<W])\\\\a5Q)e0hE)mUF:*!.*0*)[c\\'*2=Lt*;(<n*Ch,h*LRqc*UFg_*^Cc]*g@_[*pFa[+$Lc\\\\+-[k^+6js`+@.,d+IF:i+RgNo+\\\\3c!+e^()+o<H2,#oh=,-N3H,75YT,A&0b,Jk\\\\p,Te:+,^^l<,haON,rd2a-\\'opu-2/`6-<DOL-FY>c-Q\"4&-[I/@-ep*Z-pK,\".&&->.0_4\\\\.;LB\\'.F9OG.Q&\\\\h.[qp6.fq4Z.qpN)/(#mO/3,8!/>=]I/IX3s/Tr_H/`A;t/kdmL0\"3J$0-i2S09Ip.0E*X_0PiG=0\\\\\\\\;p0hO0P0tK+11+G%h17L&K1CZ-01Oh3j1\\\\!:P1hAM81tXZ!2,,r`28V6L2E*O72Qet&2^C=i2k2hY3#\">K3/fi<3<_E03Ia\\'%3Vb]o3cmEg3q#-^4)6pX46SdS4CpXN4QARK4^gLI4lALH5%$RI52\\\\XK5@HdN5N4pQ5\\\\*-W5j(E^6#&]e61.&n6?5E#6MEi.6[_>;6j#hI7#FCX71r$h7@H[%7Nt<77]T#J7l<e`8&.Y!84uL98CpER8Rk>k8ao>28ps=M9+4Hl9:AN59I`_V9Y*q\"9hJ-D:#&Ji:2Wh9:B40^:QnT1:a](Z:qKR/;,C,Z;<Cb2;LDB_;\\\\N):;lWdi<\\'jQF<81D$<HV<Y<Y&59<iK-o=%$,Q=5[16=FF;p=W1FW=h%W?>#nh(>4l)g>ErFS>W#c@>h31.?$KYs?5d-d?G0\\\\V?X[<J?j0q>@&dW4@8C=+@J+)$@[pos@maamA*[YjA<^WhANaUfA`mYgAs-ciB0BmkBBa(oBU3>uBgZU\\'C%5q/C7f88CJS`DC]A3PCp.[]D.%4kDA$i&DT$H7Dg63JE%>m^E8Y^sEKtP5E_CGMErg>fF1?<+FDu?GFXVBdFl@L-G+3[MG?/poGS,1<Gg(F_H&6h0H:E4WHN\\\\\\\\*Hbt.RI\"?\\\\(I6i:TIK=n,I_pRZItW=5J4G-gJI6sDJ^&d#Js(`XK3*]:KH5_rK]@bVKr]q<L2r%#LHC9`L]iNJLsCi5M4\\'5\"MI_UeM_L\\'TMu8NDN67,7NL5_*Nb4<sO#E&jO9UeaOOfOYOf4ETP\\'W;OP>.7LPTZ3JPk:5JQ-#=KQCjKNQZ\\\\YQQqWmWR3\\\\2^RJ`LeRamloS$/>%S;Ed1SRe;>Sj8mMT,jP^TDG3pT\\\\,r.Tsg[BU6_PYUNWEpUfO;3V)Y<NVAc=iVZ!E1Vr4LOW5PYoWMum;WfO1^X*(K-XB_jRX[K;$Xt?fMY84=\"YQ1nMYj/K$Z.?3RZGNq-Z`^Y][%+N;[>MBn[X#=N[qN8/\\\\66>h\\\\OsEL\\\\i[L2].U^n]HOqW]bS5A^\\'_T-^Akro^\\\\,B]_!JmM_;iC>_V;t1_plV%`6Q=p`Q6%g`l#h_a1o\\\\YaLoVUagoPRb.#PPbI5VPbdG\\\\Qc*bhTcF2%Xca_=^d(7UedD\"$nd_XC#e&Km/eB?B;e^;rJf%ASZfAP:lf]_\")g%!d>gABWTg]cJjh%8D.hAkCHh^RHdi&9N,iC)YKi`\"jkj(%-8jE\\'D[jb2b*k*G0PkGdZ#ke-.Ll-S^\"lK.>Nlhg%\\'m1J`UmO7M1mm-?cn6#2AnT+1\"nr3/Xo;D4;oYU8tp\"oCZpA=TAp_ik*q)J2jqH*OVqfhrCr0[F3rOVu$rnRNjs8R%HEa\\\\qJ!!!!$!!!!#AnD#CntuHf%9WZ2\\'@6^Z$<q[`B64+Rz!!*\\'#z!!!!\"!!!!\"z!!!!\"!!!!\"z!!!!\"!!$nIBl3nNz!&afWXoJG%;?-[s6bi[%YeU5=-GTT]%);iC:]LIq<\\'UEb1G]\"41G]\"41G]\"2z!!$kQDe&hJz\"qUb7TKW>U!!(OdA:OX[zzz!!%1PB5dhN!!!!$!!!!#AnD#F!!!!#AnD#F!!!!#AnD#C!!4r41]RLU!!4r41]RLU!!4r41][Qk!\"fJ:A,p-B!?qLF&HMtG!WU(<*rl9A\"T\\\\W)!<E3$z!!!!\"!WrQ/\"pYD?$4HmP!4<@<!W`B*!X&T/\"U\"r.!!.KK!WrE*&Hrdj0gQ!W;.0\\\\RE>10ZOeE%*6F\"?A;UOtZ1LbBV#mqFa(`=5<-7:2j.Ps\"@2`NfY6UX@47n?3D;cHat=\\'/U/@q9._B4u!oF*)PJGBeCZK7nr5LPUeEP*;,qQC!u,R\\\\HRQV5C/hWN*81[\\'d?O\\\\@K2f_o0O6a2lBFdaQ^rf%8R-g>V&OjQ5OekiqC&o(2MHp@n@XqZ\"J6*ru?D!<E3%!<E3%!<<*\"!!!!\"!WrQ/\"pYD?$4HmP!4<C=!W`?*\"9Sc3\"U\"r.!<RHF!<N?8\"9fr\\'\"qj4!#@VTc+u4]T\\'LIqUZ,$_k1K*]W@WKj\\'(*k`q-1Mcg)&ahL-n-W\\'2E*TU3^Z;(7Rp!@8lJ\\\\h<``C+>%;)SAnPdkC3+K>G\\'A1VH@gd&KnbA=M2II[Pa.Q$R$jD;USO``Vl6SpZEppG[^WcW]#)A\\'`Q#s>ai`&\\\\eCE.%f\\\\,!<j5f=akNM0qo(2MHp@n@XqZ#:M6N@,f!<E3%!W`<\\'!s/N*!sA].!s8Z0\"9\\\\i1\"9eu5\"U,&5\"U5/8\"pP89\"pYA<#6tJ>#RC\\\\A#mgnE#mgnE#mpXd!(-bf!<E6\\'!X&Q+\":589\"pkSB#mgnE#mgnE#mgnE#mgnE#mgnE#mgnE#mgnE#mgnE#mgnE#mgnE#mgnE#mgq<h#IQX#QNKX$j-M1!YGMH!\\'^J_qC&)=?JaCMernqJb)emj1m1ET\"[kcsAnF\"\\'5T(j:\"ammO6\"d$C<.<Yqn6%EsS+[,t\\\\aYBm*HFpgptck^YD\\'VOWHY;Di(=rc/sc3\\'qbG_RQ8%46PJr#4hsaZRpc)X\"rr<`j%8Z\\\\Arr@Y!C=6eP\\'G>hOqo8>_MsXWQ#g?I$!43Ni3sa:)6([/0oMCFm>X+\\\\W!5U[Fi7pPV+1*nbVoB8%:AXtjiR`c@#sR/dM$XF*\\\\sSb8[+DV/,l7h=o+s.gDkCumCO&2\\\\p:*:%KfWRCbb`E&MlZiadb!qtk4)U8V,cLDETWG?]oe*I7/m8\\'cTelT`30bCiK)[<_u:_PDf\\'mM/X/\"X08R$jV!MPgD;eV_c;H0.TF\\'S;3Vh+D;#^NJMna\"t1i$9BT,RCG$`r=:7H%p85JiEYLA3of;DHPMpG;[rI`=UW([Q,4HnYGdr#;C*G?2,Y\\\\%KD;35k[#nBB<J%F*_qrajUA7Y4&A8L\"jF]drWFrX6^F!!QC$UH`?4*r&h11&[!iSNM8YXYNUSrr>mEm/I\\'n2-YEOBd0mjdk$H!#J7Q$>fl+FVXicV.O$Gkq#*mu2T!V;_e&USH$,HAQEON#ns@IgGcV?c8^ta\\\\G3lsrT@\\\\OacfLM[Jc>]T\\'6k\\\\8[^>uHj&.pc^or][nG`LGVsso*rAGao2#dQl=23\\\\\\'J$>67d!Tj\\'08XM<N2UF(-?sARe&OET\\\\\\'\"r*G%*`4Dqpr>f?jLRrN1S-])Md\"97I\\\\$6fR:Lh\\\\bY9&H\"cP/N23_P>\\'NcCV:o_Y+uDnFm\\\\GB/=T>`-KPjsQ+X\"<N,pJ55MS37Iu)tkrr?dUJA)or]:d%WVr<+Ekgk(![!,BKW:m^I/Ee?L\"\\\\B\\'R@=g6DG%UQ\\'YjbT0d=gHM:-JPZAlp$(CJ\"C1ZAb+6rYqKRDsWbh!!c3q54KBD[t[+acN-i#2O&_S6/dQb<R^Z3\"d43J7D=F0,bH5td75MQc$rT?#JN\\'C,5n26+4tsAp`8@\"2oV@-eCT,OV57EeF)N2h\"3*k?3\\\\m3Z4:hsN\\'RnX5!:Xoflj`i$GZ9&prK^V?Kmk/qD8lIFUZ\\';F>mF1>WKoOs[%5AB/>^mcCK#.j_ZS..KD`.B\\\\d/-IYPnefqb<r]\"HrP#D,P!Y>sma]GZ2S#7%gcM4N=\\\\NZ)AsZ&8E!>>K_2@=lf,p:OpK_n5#3_m(_lar=RTYUPcqg!5,IJrr=hQ:\\\\;5m^G!@[Qs]>^^OkA4;U:\\'GC;(REG^%2s\"EAq.7H\\'*#\\'$Ft:A0oL%\\\\50M79Zk3kJ>tm>3Dqk;j\\'U:Spj?*XFJe<P<bV>E25=&!;0P\\\\^U5Hh/d`DI8rq[-?r)J6_`aA484.d5QR]$&s\\\\):#UnS#L?(WZ:>0`pWLM^mqJ;_6:i1<FtM&sc0q3h(dEdO4r-6h\\\\o7fJE4JnTW$5/4D4Jr4)C&%RDcq3H^<I]SfQ>%ST_U)<Ss`.+n6sjCA/ulhuAJp:pR)F^Nk3j(rY9pfl^;TU2/:e2c(W=`f,JP0_Nd2PNKe0?@/]B8(n;M1p.mV?3844NeANaDL)3r3!bN5)4obii5UJ_9d@i[saTlL[00^&E!HmV5J\\\\Jd<)#848-G:f&PaInh&aSoIIljSfE>^q/.QIQ#0Q$A%B,cLu)*$H(%;h>.u-Z!5V;,&:?V=]_jG[$#4cVLaL\\\\88#5$L2=qe6V(K&Q_\\'QDAU<&Y]9`q2T)6T^kDf\"_X:Fp?<#5TE;^\\\\s^P2u_0&hIr@up90K?$dBuOje]*Pb\\\\O*#Y$&_%bI^m4D<?+\\\\]XNjBOr2\"]$BfK+rVlj$7K3@>[=69Un4kM\">HN6IO2aC\"L6HT1?AiYM5p`D#FRc`%l8Qqi[MDc_ClCqdQ>\\\\(.0hLK@h`@naVIPOt8@_<iA@/f=hYJP#h7C&kSWKZV2&ei[`HCYL!!`G3q4>df0DHlLK)>lR!!NPr+77kpN\\'(*_Ffjkn3c\\\\qY)Wgm_b<-GC1u;uShnHJMnU7\"S:\"K%/H.#0>o.dGirrDgI5Pu2Lp9O3qa+\"<n!5V/)!+DgK$f;cq:JFP::l@aS^9;-#>32in)[L$cPPIdsG80PH4G@<H7\"(n-`qg55c2RbK.\"9s;kK!T&Z^67*n<\\\\fH^NjBKQ_\\\\?H:i4NH]^[;gT6S-,Sh!3ga3;1;1\\\\D:R.^/ad_u9u(WEOP%p?_R!FmfO&;@+s5brX;(3>pRh(L>B7\\\\[8bc^l<665`s,VjRM\\\\HEf>,ZdAbFu9eKaFlYWa\"IQhD*MTmPKN2^j>7t,5frdWPDq/>9e`%Um:8,O,tpVK/$7DHat\\'DQW=dHrdf4\\\\4kH=8$qsf=!GiO\\'gFMeTCZm>DV\\'QCO8R5YlH7._^G/eTmk!G&+j5]VaLE=/@Abn9^r%:iN#``7=CqG(E-VQ+ge[^@3St1\\\\k7[]\\\\:E3l_$\"abc=cMjrr<9ZpnQgXT8*=`J&+2F)ep:PNBB^J+5.[P2H/I,AUNF&ZEhocpG-J]_i2c\"boNg`%^.9`!dM$K8H/[BYk<?OnJOGRXkTc2)Htd<4s_?Crr=+\\'h6c)Nm^9i[Ct?,_%OVi\\\\0M4/ES^Nb1Dnl32?Zh=+j!`?V3C1fgG$62&^@h*nH(WMTm%<bT^q]A2YLloLn/$n\\'cOkE%a2*\\'o9;pVkHA8a^9,r;U>rPHc>DK\\\\shn.\";[>7<c@7#K#>^*uUM8-@r!;mVYp\\'QjXpkRf)bE!&+ZJAFY!)1qEY,p@6m1*0F54On9<e8&5Hg;QF<H&:<\\\\8h:\\\\q_\\\\<Q_8\\\\^HGJJ-SMsqDZ$Gl5oI1kfgS\"3bXddFKu9$Kr^k>.gEe,?H!+-bRFo?3FZ87)L\\\\knE\\';MLT,!>P98Onb7o`q\\\\r=_/#->6LKDoBk-_O$/ga5IAqKHedSV&c8Fi84+\"7=*/&BGMqUfECLkFlTP>[=fcH14rW]ck)-Cn90d=1F_WUJrPl`^,6\"b3qPm(*!qJ&)RYD642crr<K#adOVhRespm.VS>VWFQA7X%h+fLb*.DRj5\\\\V:oQR(0!0eETN_?qHN*uL0C>h0kP\"iPR5?#>-fO&BP?s!OeTA?(2#:g^DhYd/P`?\\\\mEu]hoQ6o07Q#KM8rr<30rK.!lrrBl&5@o7=p4(\\\\t/R[*dHW-s>=&L;#ep<Ue#.D4!EZO1=,,N/;Q:N<8hrSpOj)=o&2>^SPfCg0`!.ogIq_A\"VN_LH]pl0b%(\"[R\\'R/)&PM<l9S/>p[U?_15[_<\\'BEiU$pH&Sp%!Q>M7sD>WO8k.e+?[Egb$Sc]Otrr=[J\\\\!\\'&\\'QAR)ocS[neSH%\"1J+u(2p689=j&a.EfsFKaPMhuIn&B[T8Y,k]C;0:Um+VVsfkCWZ_=&L(qYBWDgVuJI8:UCYAr>FYn1M!*Y8>pf@d@CP:5H/;G.Q8(\\'4+u$hDFf!Med/\\\\\\\\RQ=o\\\\jI5K1UIMgBtrT3<tTgirr@Z0CVC2,\\'M33!-1E:7j@867dWm\\\\0.M:mfWCdHj2?&4l2=S)2]LLV!L32Z:p$gc:!,8jmD(_sOQ<TgrD.SDE[?2bp+Fc8D0%)#=U\\'uT?0Qm+GGq:j\\\\KVLDL^NoYRYPl&iEUt\"N.eoJ*PI\"T\\\\o\\'`LLIj=O%_uB`+;i@g_J&*\\\\>IrFe8*tPc/#\\\\qp3*jiHrI^$9M[^W84)I$?mOe\\\\2;G].I<0aXF2A_A9qNHu,QTD0V&llBO3?[0K-TC>mRpaA;L?6lk8=hDArdo0-;)r4Q6JA\\'M$A!!p1>s70_\\\\okXamOof7cfJB:ID,X\\\\#=A3[08?+\\'-c=hsH6b[\\\\Q`0]-`nd=q]B*`F?1srn&a6N(7Rss1LTC4A5sG?6i.XB$4qi/rG)@;1_u:S\\'XsRMh,2?C\\\\bEl[!RA<_cpY9i@\\\\1?UuK?C4SBWFb$RU/iaAGp`JG15[M>DMC2kI=ckF1\\'e\\'mA8n2G.QFXOm=)#rrCuS^D?`WY=EBt#>EMB.H*j]nC[Ms`bdTH[ILI\\'c:`,g&RXZsO_*T!iIVV?G_a1Tpa`5Fib2]7^U9D]1sL6]R`%\\\\M:jX.)%\\'WD`\\\\=1ELSi_bFPNF\\'nE\\\\k+.i#g4INh70Lpqbt%CV:e6oNr*lelMWZM5,oTaR!adNDui!\"_f9I1pY611QhbdBWi0kN]N\\'q2PthXND=._DnGH)q\"c)s*`:j.&\\'k<Uip_e1GA_2EALlHVf\"+M:8MmUap:J/U%K?E9?hbjPO/mXrrL:1!iia\\'o:jFoM)5`rA=_M`/K%;HcXO-4:0g8\\\\?V4!>\\\\Y`C7)bl7\\\\4>JJl1*IQ\\\\F^P83+J,FVpNR8Thh=JV*J)FOZnR%N1\\'>-i9hJ$\"/D<8^\",S28d!SEMLX9>nL-_tM&`$jPSqU^H*\",cEg\\\\>\\'k!WU6TAO\"Z/MO1[Q=@=G=^MQ8hIjX]]SM\\'VGhX`qC$f%*LjR(C$1O8f4<\\\\UOUe5CoFF1j.0XBr&Ua/2\"\\'\\\\-,.hU`l-AKX/8_>)RF7O#o@A-H#q!Qa:!GirrBkGr]Y^\\'rJA:+D]SiX_\\')$X2Mtd$mdj=;FE.S$=EU*8\"n][[3=GieU?ajc2sCtCfd]Nt[\\'If7#5s1%FfkR&rNa-UG_\\\\YOj(WZ5>7&gi4PP9LRn7+.<?b8loi4//HS>:46JXg2J&-L2!ISSMYK<d0:Z0&94#1U\"kn65XdTU\"bB@TrkebY&V\\\\YWQJND-Xa^!jHSh*:N\\'q*3pNUgF+1G]u!@M9F@Ik@UL\\'n!1q!eu>^ZC\\\\=t09As7Q.[I\"&a\\'@6/>OWm2DXj\\'Oip^i=27n9GiUgtJ8[PTcUhHO29=qHQ(\"MqWK&nOpN[]@J-*BWenY,qV5N\\'#>%Zd^jdQRd3]>&\"RVU0GBg)n0MDiZ`1Q!uN&CO167:UE[>]Wi=U^7-MVb_;g(aiUaQlh4OLT=($QLA=%mMY&_#GWSM4r2tOc8N\\\\R5hs`pmfIt9aTGJ@Z3aIS^f?(\\\\pc-38bqAF.E3;!:FYH?dY;o<\\'SaLC88rr=l\\\\^BU#ln9i2J&VZKA4e0-&))ZoRrm\\\\\\\\mhiIV@m7mI,r&O_NoT3)q)u+VPei\"KLO*(LdLd95maB;<KYG;$7rr>:_Wr,9b!/#@*=fHYTrWtgICOJX\\\\rr?Km^*D%arr?Zfb?DQ9\"<P`\\';>=5\\\\5F-^Jj>/@!P7^\\\\(=sj7L1[&eFhJ,oP\\\\$A6uddXI8.kE4?rrE$+\\\\#eoLLWLG(n&,*;S90EUU+(#Rq_Oc>+%lNs^,UL\"ph0J<rrBl:I!,<BIb9*(f!OlRGUL<\\'*j=MJ#\\\\j/.mt\\\\$Q6`A7S\\\\ur:.C%iCL?:euZ:g8WdA@<=_TZTk(0`M-*UHSbE^)$[U4?)f&82ApgnJf<>:0Y\\\\B,T$:cnfVf0r`U03(o1$!iY\"aK?dsSAmtW!ikPQ(,p+#i-n_<c!piW8)l9.p2ZbMA<HH$o7CbK*PNqO3#%+2@UNfp%p-#gZOdH:5$n2OZFfghA,;mKd-CIcS0e88O#*WH*u2l_Ahq\"eq,j*oa3\\'Cg:c^\\\\B,,`kN\".Do=\\\\l`/aotc2Rb]/`Z>mM01nG^:9fQK$)s-<JgAR,i5D\\\\-DPd&DG)c\"[jpaiN)/aUls2^Q!5V&fi.jK+n5kB_<pRbS$e$]79:26&Dsa_:Q%rk1i*49b?8`p<3L./opTO?;#K\"fA>2T5k+&_kei[l4n]H\\'4orZl0`l\"q?@R+\":Y.b62cc*Qi>.rGJtFAr6^(&[9!?iJRtn85Ar^HJ%??22IuViN5(dYIeX\\\\#7u4@PQ+PCkKYeC^4bON2_44mUd&mp-*T^e&UE^jf@B8\\\\DKr[=g#m>rG6g@:2O2`bc#.GIOI&A]pa.P0@Khfdj4d4gZdFT26G)C4=puZbEZUsQ&uppbT.N8AKr=L%jI-%,kKU%E5-2GffS-tr\"OY=VOdU0rkZ1\"^9=U&G,\"5q[Q[=L#oCbS4E>9sg82D1NL!D\">tboc@#lDf?\\\\a#!2;HNPlU^a\\'NOq;N7k->k^+r^9dD0:T(_q.#)-@G8+H$/Ibjq448\\\\0$Vril0Ii\\\\k/^GVtDq]0E\\\\BX2Xo/:[H8:]/7so]P2@BSg9aB=I\"dOUHARa*^:<CP_DEFY*6k##Dm>jrMBMocp`@Cq\\\\B+L?P@p+c\\\\ZMt?OF.(4r_r\\')dV\\'!0ZdrH@>$<=q.74(H&a\\\\GNC]@4[pi!a(caGj/%0eM[Q9-YSP3\\':C)#X.V\"RIXd3PmNP\"i<EU&P,NO^GFq^[]YDWm^kl8T*S+57],I9(q2Bo%s8e5@_&*(bu``iRAjA+r2#X1W+[mqV4<E:])3+nFtmCK!D=hrr<N^FDDik,O#m:FPLZcPb@Y^dc\\'PpR\"@Sm-u_V\\'\\\\,QF355tV7RX?+T!.n5K(k_MfrI^bo4sHJ-L.NuHh>[I_Xm#gkgl+>NlPGT?Xl*UX4H?_gV+bmPepkLI^Yk:t\\'7XSsKAIjOUqSS=al2]Ih[stp/bJeMM00cP%bTQ$g0(Skk$^HKHZ2Eura,f0EAK[GdQd/i+dE!,ARMEq`&fuVU[%]Z-2PA%rrC7R)LP#0(2#()T`(-;-%:\\\\/p\"/2?m\\'\"TWVVSD(MgiqfG\\'Z[G=o2S9;Im7FiXH7nQ;S9rX*@-0NG]5GLfr]%6iGH\\\\\\\\B\\\\\\')r4d`t8bG=7n+\\\\j)p([#7^o[;\"kYit?\"NM=40;!2)T/qE(=7hFJBE#asqcnU%IgpO+CZ4B5GZR=tbji0!/h_l&`*+)3l;5O[X.\\'K?\\'&GsdL!1?e0#=qq=5$cg`o#(>r#HsX6>3i8Zp2ISftYFu:7q$r_fn0/rM1$UZ/\"V\\\\Z.[/1W5do)Z^bhK^mPB\\\\7=>CO<)mp;PVm;)r4-:sYH.TKq-IQ&d_XIeQ1]T5\\'X.:=k@=7!rXHKdoaM0*#t<f%DrNMO!,2.[`Ab&>r[;C100H]bbb,R7C\\\\MnoDtEu/lE>rWi0uq3F\\\\g\\\\Kp\\'1:Zn/knDrMSW#$Ye2gJH1\\\\]Y6rHpfKA6=mS/,=L]77\"c>/L\\'`Di(.N_f70]H.sf(j#.WJ%5O-rf05$^#-)4Vu\\'m$_:k3Oi+j+CnW1R\\\\U#Na(#_qS](>^Jae1Dm_:srTNb;.#3j381-TNC1Br#5P2G%k-.a,#4QIi@SXD=on8nQ1>(/3LI:^e(QY`^8UL@PnFsgS>KfD&ZqArKsmF;QMV_J\"G9i(2*UQmI:kh$)dZ)C&\\\\1@L[<UD=tbIi8$.b`_top\\\\/H-XZ)0`TVaROq<=\"c.mEatCoT#lMA7i\\\\+e%+g4e$Tt_qZedmXrr?A#8\\'bf>k<ch$YZFD!Y:o4grf_hDftI]=&+N0/0DHf2m=LXIg38R\"h\\\\0e^&5?Is\"eU^#2r`#[ofMJ4Bc*SdFf4$N>h`N<,FLqD.Ij]@O(/+hK!oG:Z?M#;@(g4HJ,#G*=a6h8`&9@6IK].O[(+Vn*I(*9kn**21=O,l&umt\\'9FGO]V03-GCWQMU@8GW.p,;pNK&HXPnpDtdV0jS^CORtaj+[D*i=0DQ/%AV[3)*1E8V8hQ9Zg%LVp>b5.5nc\"=?j4+5HlO5&C\\\\GGT=)/F5M<_m9ik3%>nQb##27U=e\"`:B287TojtbXob3H5Yc-\"INNuOJfoA`/e>>T\\',Wctc6f!i?CQ+H;<kBuPJA\\'V3uD>_(!YMmk-Isr2YS+c.I!/#7*Brs<Zpq:Kk?1?1\\\\ESJa:8#PK44\\'@k2FSf%g5%>;5f\\'GY0d(=tC[meIW_T?HfU\\\\eDIaM.tpi1dskCk$C\\'!8%YXhc\\\\L;CN$UVDeONpelDgVdA),EgK(a4@Ut]J1Eh?hXJk[gH[(nV%KQHa^M^dq?@L\\'>n5+%U>*\"HO$fYf$V:I3dj4\\'DfR8./(E04@2>=i`[*H!H,<eQJ\"KFCAlSd\"Z9m6UaP#4m;nQ5YI2qg;\\'3!V&%qo$[*Jj#13eZLYh9X&`+Mm</;!E2AX2K),Wf`*lB$Z^t\\\\Lg2sk[&EKs3Pc`InU20VQl03-t*ocs5)\\'$OFWHrnJmq[&D:KJA,VeJWF-?l)efBdGGBD1K_^N&4L&5/g4\\\\ie-L,M$IWW71J0f#nbb2da!!&3(_40/*_J,lK7n!.pU<!5VBY%fZOF.)$5GrkZ@RFeu]t7Jf,9,a#(=)B[^)$[$UmGJ)Jp*Q)+9OO!:;,_2kS3GSQo_+B.7^-;\\\\5%t\"r:r&=WU\"Rj(1nJ@5b-JCng7AsACQVAYe7hMT:c)=Dn?!_.F-nJX4_GQ__i?O]\\\\2tharH11q8#j5cprnKa-;YrUEa1nuGMcsCn_YsXp=DmdP/6ig\"eb*.)M$+3bbIiV@RR44o0O\"iq1,J\\\\F-,C/00<F2Dbh^cYZ]eaZ>IOP3aZmK/O2i5Y\\'NY(%&c4+A/D@f(mAk-JRTd)*Zsr\\\\%Rr*T\\\\HkZ9brr<1LpiU0J!!Nc1!.ou/5E5[CB[7O\\'`hVHf!++H;Y3diR)4t$]k<<Sr6d,c\"m=^C2**_0SDIi_/jBq:5rr<3hrr@Y$rmmP2kD2;THqr9EFQRWqH:N`CXunqF=eGn78F0oJG>Q&\"Y3opJNS.2\"O5Cm0pafM5F8l4D628jd+5-Yop8IqO%ur:8lh&Zu=fgbjeo`KKmISOaoWai5TN3hnn4^\\\\E%-N2*qlAZ4p`b4c&pN:%YWa78Hm-kuQV)2*7rb]T5,E12@/9`^9gWQfLe!HZYQEiBp/m:)PmMe2dZ\\\\a8d98+Jd77J*GMdc5piS\\\\ElbQNCl6QVJl2&((k?n2oFmuTp-c/Xfpm:se^&)\".n&>,^_2eZ]GLq.HVPC?\\\\(DclFXVk3R(3A:oG8?:;A$deG0!8ar&1\\\\Gm8aoOB+7Rb=-i=_>rX.m3`1Mn;DUpcCnaZ@3;2JuQoZ]F!rrBC4mH@\\\\3)\\'Q>l;4Y$`%Ejck?KqIi\"g7k*K!16io>c/am%O;($1Ij/kZWtYG4/iW13f^!&hI\\'qdM:NNar+>__(kqQE)tpa`fN<Te9Cg&KDl1^&,[*Up1\"m;4,O>n-2?/fe@\\\\Xu$/W,WW^X(Y%#=:=A;jKl$F7t*c*^64%^nQ\\'>VtuYQRtged9TZ-rX8O=d74Z=S4mn,GD%i;^@1OdIHTrE[1lJFPI,boO8m`/qCB_&2gc85?2I+h.b=S+Ht^p#f=Wp!)eQLlZFC-ULtmT`#\\\\9&7#ED1qdD0<:J2QW!=3JHu&l()Y8]!&=8SHHATDnnCJc>_d0RmkVp`ps#qg[<ii(gb^>^.>`\\\\SI`L`u8C@J\"i7pDla+CN\\\\FE92\\\\JU22bH!`+uU\\'0g&D\\')GQ&(.p]L\\'(_8kJ0r\"RaVYjf(!jhKHN[Gu.:nBS!IM7*??\"8RqS([$+hk#ud[5#0)rXYh+X:Y%\\'Ed^<a5]!]).U7)s]8K<l&_]toX)-@ji5m19\\\\-2VY2_6q%`ho0B#T,`=#Re/fLFlt\\'rP0n]]_f@s`lKlHO9k1su(6YI9P0F@Qqoh6PKZ6;VbS@\"`P5bN5Wr&7BA*\\'_$pl%\"I#4EA@?hOACSCd/!rr<2lrr@WWrlIA./jF4q&U6cNB107u..f(n_nIDG:7J?Bbb_H.Ci&(C(1K30?,51t:oh[q+u-:Frr@XXZEO0@1]@b,n97USHn#\\'q#g^<4frialIh$-M>&)gU5$bh@=CotJU-ucG8i^_Fa`D(tc25SV.`T4^IQr=u)?0]pU>N;J[Dmj\"r&^Ce?5sSNE7=S7n7rqSpJR&6=YJIr(3r`AG?ZDVQfVouEF2Q;BDrAFrr@YVrm*VoVhKM=g\\',3_V8XIV0R0M3Q[2?1`<q8hpFX[ZK4l)=KE)6LqO/:.-eNc^2+:P=m7UG$7IMc&]/.L,Qr0,=$r&ZT>@lE7*o;\\'H9`)G%rr@[]^MMeZf61L:^LeRJ)AU;Or\\'(,\\\\DUWgo2`a(CG_jMG\"nB1R@tjEj#*RP7cT\\\\,DrY#\"`i.(,Wqckf@=8r7(iqR(+O7@5PZdNYPIpjV:*7_3iAb*5*?#\"d;BV;tto/gc,iBLn>6f])YO:D1dH2djL;1@An-%U0A#-YpHY?q8d2A]H?8O(*\"lH\"!m%%kPR1&0Sp$iUKurr<4+pk>Jfcc83Qf0!QEkR^=&VG!ZY<a?3h#\\\\B8I.[P?c<(mFWUT6t2jVVl0\\\\SU;X_e(d$0<W=:-h!q8^@%RfgPWEi\"\\\\F3LY&!JA[.Vs`l@3;=^[O^\"p`Tlt0\"#J%m,&3GRok3\\\\+nP+Zmh]`D`nS.n`3400n>e`Db!@-+@]B_VbHLgX,Q8&Wqc\\\\Kc<I@jQm)STg5h\\'ld\"F,fH[\\'B+DQ&E=g`\"!&!FX\\\\FZ,`E?Dg;;`XNBqoZjbTN^gHT9L!;JIip9aV8YJ6$GC6\\'1p^CDg&-V:N>]<CW%!\"rTX*bUVV[uPUkpQNpMrornMH2b^2n4eDc#PJ8he<W>*f8#ReB)3g3;=PCuMp5T\\'.3pIRCbh+W@TEb&E2HCK!k`g<o)\\'38[--hWGAcYgm^2Y*d.O/,(Q(fsO0bbY5P%tV!/EcjrrCu9TC>4M5P@(J[Jd&=C<3N\"O,D@Ta%OnA@<#r=\\\\E6,@(uunX)O.2EP2(R\\'(s.LB)JNj`OXQs<,;dZFip-DEcd?i-Z9FTWJqb>0V,([tq66TN/\\'?s7IV8]2rq\\\\%;MYV.f5snPumBqjN@s2*%Ecs09a1/;anLoPPh\\'6pIGn9ek:]AP+q>ieQGu\\'HH2u2o;)_rMRGZ:\"B6REJU6f+m#,T;hkHAjT6YGB5b+-U<&kP\\\\icd8IG*UF+m9^)F;HcEbmbTl>JQG0qc:eNp>3]UU@7T9lE8a5rbmHCAXBr+MSH8L/3<QE,JO3LGAiiQ(Tq]t;/\\\\#LVn\\\\C2po+6m7*<L!R8*1\\\\<Qb?69+H>X#Rf^4lRe+S#*&T&V[VU5HJI!C[]$Z31-[~>endstream\\nendobj\\n5 0 obj\\n<<\\n/Contents 13 0 R /MediaBox [ 0 0 612 792 ] /Parent 12 0 R /Resources <<\\n/Font 1 0 R /ProcSet [ /PDF /Text /ImageB /ImageC /ImageI ] /XObject <<\\n/FormXob.de4c48289ef4d9c1718ed54c6e8293b2 4 0 R\\n>>\\n>> /Rotate 0 /Trans <<\\n\\n>> \\n  /Type /Page\\n>>\\nendobj\\n6 0 obj\\n<<\\n/Contents 14 0 R /MediaBox [ 0 0 612 792 ] /Parent 12 0 R /Resources <<\\n/Font 1 0 R /ProcSet [ /PDF /Text /ImageB /ImageC /ImageI ]\\n>> /Rotate 0 /Trans <<\\n\\n>> \\n  /Type /Page\\n>>\\nendobj\\n7 0 obj\\n<<\\n/Contents 15 0 R /MediaBox [ 0 0 612 792 ] /Parent 12 0 R /Resources <<\\n/Font 1 0 R /ProcSet [ /PDF /Text /ImageB /ImageC /ImageI ]\\n>> /Rotate 0 /Trans <<\\n\\n>> \\n  /Type /Page\\n>>\\nendobj\\n8 0 obj\\n<<\\n/Contents 16 0 R /MediaBox [ 0 0 612 792 ] /Parent 12 0 R /Resources <<\\n/Font 1 0 R /ProcSet [ /PDF /Text /ImageB /ImageC /ImageI ]\\n>> /Rotate 0 /Trans <<\\n\\n>> \\n  /Type /Page\\n>>\\nendobj\\n9 0 obj\\n<<\\n/Contents 17 0 R /MediaBox [ 0 0 612 792 ] /Parent 12 0 R /Resources <<\\n/Font 1 0 R /ProcSet [ /PDF /Text /ImageB /ImageC /ImageI ]\\n>> /Rotate 0 /Trans <<\\n\\n>> \\n  /Type /Page\\n>>\\nendobj\\n10 0 obj\\n<<\\n/PageMode /UseNone /Pages 12 0 R /Type /Catalog\\n>>\\nendobj\\n11 0 obj\\n<<\\n/Author (anonymous) /CreationDate (D:20240723135240+08\\'00\\') /Creator (ReportLab PDF Library - www.reportlab.com) /Keywords () /ModDate (D:20240723135240+08\\'00\\') /Producer (ReportLab PDF Library - www.reportlab.com) \\n  /Subject (unspecified) /Title (untitled) /Trapped /False\\n>>\\nendobj\\n12 0 obj\\n<<\\n/Count 5 /Kids [ 5 0 R 6 0 R 7 0 R 8 0 R 9 0 R ] /Type /Pages\\n>>\\nendobj\\n13 0 obj\\n<<\\n/Filter [ /ASCII85Decode /FlateDecode ] /Length 1182\\n>>\\nstream\\nGauHJ>BALX\\'Ro4HS<oegFr4[+)k4JP+C/SG8ARmPg$XKs\"]d-HN[-sepQ]=*L,-.#bVBScl!1soq:lN@k(W/7S,qD7E.*KA\\\\I^=mGqBQ$HPf3]HgUqBMfT]B3ns7mL?i&ToAr%F\\\\:p?jopq2t-S]Nc`/D=U%D-00-/BCA-mXZ<`>oT&h=fWXJS9EZN2%tb0JkZhLbcK/%f6oa`0q=A@7kP`p\"p=/L$2h$Qs4dUJIMJD0*\\\\c&%R78ogF]nO^N3hZ4\\'gaTfNQ%@8E*^NRdg=@1$[<%*3\"XP<U1%l8u+5bK#7S(EWc?u@NDA#*NijCF8b!i\\'hdBi;X;oI/Z;u4)EpPCGof_Q8&LD.L/(/2d\\\\to?K&RZ\\\\1`UihQZYOTD:u%ZZ\"S;[J@%]p=:i=t?\\\\1np?P!U497h9n7-,\\\\kR\\'@+%;o2t&fsa9X9<mI_@.R]$Sg^6M#Zd0\\\\csj%LG+i/DeQdto06C8UXJrIq;oZaZ!S5\\'N1=`L1kT@r0q$eDDTZj&-dr\\\\d_3;YgeN$dT<>C#l>G0/bFII01EN`ENf4/V!%$OQt$aB1OC5H7qdo0:m+S.g8anKFQKpO[oB;Q&N@OA+>7%aoucoh\\'8KTJ\\'?hoT-;qgQqj1.-fX+D\"R_cc&(C>kX<dK`EXUhCfF8%,g2%_-32LI\\\\m`d505eh@Zd*D^r\\'R]f[&ImiSIjq/<o$JEfhnLqjCTonr\\'Q=_pW_.9e?!Us)j>:$[s[tO\\'\"MR?,k*4=;AKCUSa4(nmQZl/k\\\\f>;\\\\d*&SriGtM!BR0nnSg2IRuTCP43qas\\\\6s@5;an7<-\"Z6P^>6M6;]$0b&.\\']/@mZOK$[j?]9dhB%+ZYnU$T\"6b@\\\\lfQo5gS[m]!er^HhHI-5)dI9[rO]OkV>NB_F8(pSOS?>!\"-#kEZ+_HZf^O\"^b)o.3RMBcSA\"10rC.T7+iG2G13.!a*hrUC>d#\"TW^8(P62m2KN\"U1XU2?\"#N`t]2eJ)\\'\"@e\\\\h7uL<?1ut%pVM,Y\\\\QnOGL&^:`/1EBqZ-.SJ#4B(iqmo%OZ0>q>.Z@Gm.E)!ee:!cmaDOMTElF,f^.(cP6GLt:9gih1pgJQ3*<,FTA*TrBgp\\'WEO^kIO&Yi*Punk\\'PsnOgs`H;2QWCZ68e`N&2r9rRnS\\'D?S$h#\"2\\'6&Def6!,!\\'b(.aS9kYD3S-hWc-F,?#F$RbZ!#e\\'%lS9Ll~>endstream\\nendobj\\n14 0 obj\\n<<\\n/Filter [ /ASCII85Decode /FlateDecode ] /Length 1626\\n>>\\nstream\\nGatm;d;mu\"&:F4Rgmd,[b)2?u\\\\U!EbY1%VBF]+\"n!/Nb\"W(;F>5frs$hLQA0aYHlN)3=.s#i=D*m4FtB`q0r@^Ms;D+bF&cL(I*&>!b1VAe9BFgZZkb:QDT5D2?@ibU<%qJ;`XMrVa3pLV\\'b;:D!I4dEc)($6AsSdpUUYpjUePE-4==3bWBsf1aoE5ehB#h[AK1\\\\G5+-:%[Q+*IP^df+8h)Q59J$8gd)IG@!Oh#/P#01Q5D.\\'kDUm[B@ehH&7n]Q.\"\\\\\\\\e,aqdGA\\\\SST\\\\!kgI;@U>\\\\QBt(82S(jV2CD-)b?ca1LX/iHAMTuT7(gfX&ktkqEDL&]oV$d5=H+d\"DEeQX4W^j?m-QC9H+4_#n)C&AKsHE@Oss>f<EA1q].Xp1C]0FQdL^,K[H&WkgL#KVCRRhKk^$Z<g%W&fSqedk&eQKOQ5YnKD]:#N5smn6;*eR5Il!(drNtV$:C\\'cf61\\\\sK*1`Hg^(k<_3$(CA<9FgD4?LlXej9H(h92GGnY9>=,*Yn@*lJ^_d+dYNQ?s:F9L=aXiIt\\'(;:2)Up7ZFnT-]4^Kgulmm:5KXj\\'7:U9\\\\WoM6OG.[^Sb;5^Qbba[QXm0nMfKkqq>:$<\\\\)81kd5a\\'g?A>\\'noaI>4<P_d\\\\([2->>.O<6+*FE56+Qc_r(YcH#O)FaO`9\\':rf#JHV[rb+]n23>Sm(ONWo]:Z;EV+%nF\\'<SY]m<PafKfb_Z:dltu>]r_ri\\'R#NV=3tX]&Z[N22(fHS=4/7u6sB`f,hB]BNd%=jN!Y\\\\E2/)\",J?=aXBnBfp3!2JH2l((]+C!VfXn!f]N[]O?Fd6RQ5R0oY)(CqhcT3J.<24o/afn`:YAPR\"W1:q#bJHg8V88N7np4-VZ`>2,BI)RpWcOakYL>ZGIDA;=5r.\\'sFo^EAJPHs`j3DG.d5Qg4iS5$MW#Wk\\')XV<<$(3oDh7`5r`6iq]:sK/P]E`]uDX/8Vr%&g%r%oBUd<JdB>U3)RYbUPFY\\'`kQfnsI?>DdV%G]J>:Oh(,FClg$?aqIl#QLm4GNAPB3c%88Ud+;89?2AXYo-I?^Ca@\\\\I.HrD?=PBu@3rPRg\"U1<O\\'+8_M1.TF!*@6$,#1YW&rrBIWC_=*\\'RjB.qj;BAIUlcligHsY)dfV/d4a9ZBUGJX`q1MQ;b1;8olgh>Yje,YOdoRN[SQ6pImE50X/_e]r`9Ve$QkM.kA@Zic\"/m6I\"3AhUrPY<D\\\\oPhC.I/g39WRN$38F5tRnh1S4mH1oJ@Fms*Pa8;6er/=dn-B15t4,ORFRkE&<DHlS]h<8HGTcU3TirNYS;hQ4+Cbj0/n^t_3)0CYJLHKKK2\\'3p:KO/AB59i/_Lf>9GMEXnQs$LbFJ3YXJWC!OREE\\\\6i:\\\\c/JjGlemUilZ>e?Np.m$Q%Q`DD^Zp7l[^k:uK+JYh%2.BU+sT&b8ie\"+*BS*B3uMA>`ds.GBZ!\\\\k=m/l=-WJK0[A<@a\\\\)0-Sc#d2\\'Oe1Hjg1$Gln7qMP.XQGt8\\\\1!8a?hFSiD<\\'F3W+@X%X7OJMpL8W%V[1W-iJr$ohG!BD^X65A%neO57Kt@p*h:VeF^_u#GrOOdlqSUVeLXDOiS\\':=p\\'7/rPKh(MhVc.4=t+B=JrYb,0PrZ:/Z:W\\\\t%jklVCLiBE%ub$h3N~>endstream\\nendobj\\n15 0 obj\\n<<\\n/Filter [ /ASCII85Decode /FlateDecode ] /Length 1609\\n>>\\nstream\\nGatm;gN)%,&:O:Slq>B:7qP.^QL2=q*&h^sj#CnN:8a-a\\\\Iqbj!\"2%io_7/F0=i\\'FS;q2<&da*#kF=]I9VG7S1jip^_##k!q\\'Cae!le/0LWL+I&+F\"To\\']0(XM!o;e_ll3e$XY7AnNKu/aZ:O^ppIA8aB=MN3hDZa7gYsa)Bqc)U-h+$oL$\\'(KPcp1alV\\'!pSWTPk9Ih6#JGrD\"8g0s+0]9*5V+9fo;``O%#1;*=_&lcZeEqJ%UJT+nQc*AcYh?TsA8ZF/`f\"`BG#D!fpsDK?PlG*k#)VKgTg5YS_PlnX`I>0f^84c7S7O7DYl`=@ljbM=4o1NNPb.#OgNe$.UlGIWO%h&Zh`e\\\\^/\\';mnXtJ-s[A?5_6e(0Bc2^oe8\"Q6Y[1*N@fhc/+a5`GS&0$oc_a(]Gnd4>?Hg;_[>M,n1On=<QaP;^-=3c)/C\\\\:HU:](H76]ETj35nKL2>Z$WA5oO;4/-q+_r:!e5>A.64:h@FZ@&l>lJsck\\\\D@l%:lS8W@)*IFbsYdG->Z_cUfob:%f-$03\\'smf?T9W\\\\W;%lgb!R8o]G^(/mW?V;_hl4U4#V^5F&ZEm1=UMUF(iiC^%//aP5+egto<OR_atG,%^gDh=]/!ia>(`F5dHX[@kY$B(qH[$\"%LQ\"+cU@%+?gT_E,h!,,T7m.5\\\\S*t>DD7-+d$*fsr9)TmSN,J\\\\BbZA!@*_7(U<0pc%AG`(kUGb$c#,@0@\\'qY&&0n3l-PMjo>*&MFuZ3-T(9Qd6BF(TOI;_LkDR*tAgE;Dsf*WX#0Cdk@I)r>*>oSMHWc&-K/4=>!nmS^G\"/\"J_hK]Xmm19VX>#;o7slK+:lKLCL_9iu<Obj\\\\1$0cth&2!U\"%VlAD)aXDq@bS?ubA<RMe&PTWqJgf9*Hn*,^jVWFrs\\\\C8G>o(S.&7O];3`4J_>3hqdf9D3Z)2/QAUP]BepEs^?7GUa/,6JsI1i!\\'L6,k!Rsg2<87P6,,o2EU-\"njW9m8Y$,mPh&-*g<\\\\-g<,N*3M_(4EgaHbT\"FOE\\'PKR^Am)TtX3c[*Q_M[0Hq4\\\\WgkXVV#D%E:gj:KL(GcelK6AnuZV#0)V=a\"JnW06BurLDCrq[?`;GOGV,`!Ahm3\"7Tt<de4>F<X/FTr$WtfY#LOdk?#a-f>aG;i?$EG:8:\\\\F\"r!cCpaigE0Hd?2jJajT6fmR+$/ifa#uRn)K=o\\'W!`an_Uu5Zh/PGK,((rh6Dp\\'oA3K^Z62`$+hs\\\\D6MBr^j^FguhP,;_G/jnl:baQp4aDrUQ)?32^T>3?lgRVRpZ.u1g6;Sp_1/B^HGAsUn#^Hu(S6sX1>F1U6AWR0l&XIED;./Q#jRYEj>6^\"L)<Odl8T.qa0\"4McIhWPMU$AF/E;NQOV<3nQkuAl_k*=M$g4[oXr[a6YC%LS3o&A[g<Q\\'rt-amX>Wop\"_l?VT1^kmpk*QD`]U[<f6\\\\FcYJGnXeiDHn<8c]lK]hCoFIM#\\\\0a^YP@4N\"5![/bWr_86N\\'p)R?jM,c7)`\"PGo>M6MWc@M\\\\5d.\\\\#c!J8r53+.Y)4k\\\\+FE;4q#&>X&(7F-rkh1G,M83nedLCurA_MjVe5q\\'tWo!)TG]nPg&J&ee8,YR,OJh^-qQ$F=[V%Kn0Z!J\";a)#~>endstream\\nendobj\\n16 0 obj\\n<<\\n/Filter [ /ASCII85Decode /FlateDecode ] /Length 1491\\n>>\\nstream\\nGau0CgMYb8&:O:SbY)BR:_chDbK`c-UeYDB:\"k3tJ/(\\'g=Y72Lma<lj^1UL[8_kd\\\\7U[Ei(i!^0A^659)W3:<s$f#ra,o/+%O`/l32^0>+&hs\"T#-tHDh?6\\'P6\"A[pG/<Lr%jo!i+kW,dO:bB?QTr_O)]s1rVHIkq#.Dj\\'W/b()G2go93+p46BfAUW`48ERHD^K.h]u>5&e>!@@K\\\\2MO;=UZMRCuf)I8-.e2/gr$-pq;\"t^[V5cB-UJQl8bg::idY^5:AQLWg02/D8#@o/2NH&N+<RXTQKd;j.L$@&6<Q`rWVkmp4R$LphA2.$.[*!2gfCE:6_QpEfL*_fi\"Cs5^rige]r;DJe*=hP9__)FOktqrjpa(<:qA-fChlCod!53lT)$i+,A5.>MPSPO_.^D\\\\@l1l+1B?Yn/.u+uN/=;e!.&$mE3Ft1,P>V`>/!AS;gDJ%s8HOhjpH\\'OX``GE?fqMSndcX5d8VO=dBoqcJg@LnTY<+EZf.fD\\\\V=,=2$an\\\\iQ.ftVc9\\\\81V7oXKalE==j_S!$^rM60J7;!7YbBAeeQeo?fgaH*o7\"HVCm8tIE#\\\\khCTNcBLqM-_B#)MAX=K/s<BEGW>0(:ZG=jrb4T%Fl*oZpb`e#C7Qje-hClN<7@P),KMKUeJdp04^B\"3a#72P^gAD!<((C5Le(=7[?c!3H0a8:-hqcnBU`j#eX,D;cppmN3nT:gHYjlRuc(/bn&P),j<NOI:@j+hDJlN/.JOPn[2%ta_XRPiB#WiFZ#!Cb\"R9\\\\9dD0@9s/;q1@4RNu[,HD7G.lq)]t_eC]lKXP@+L]B9redH/F)QU-[Gt3`nNbOd<S\\'Pm1])^L+98QR:7EUW34-_rbdm%;6`br07@\\\\Q<EoF?U+AORk;GFP.&DoFuFm=hFPrG+\"m%[f2u\\\\O/JHi`W`6S=e_$%[fnM<**7t]X]lm8!CD#`>>G`W9aE@i8&M-4hSHcG(ZC;!AC0hPOCB\\':!P\\\\s$##ILh8=UsG`*ZXY`rn;GG\"ifkMRCtI9VBZePCc,\"GD@m0[//BpZfAmY6J%rL>)kB&2=>\\\\**+(rGXsj^Ya[+L>*WUBq]\\\\kfH%]O5^5RsU*Yq1u*0\"G\\\\RSIqu.,9fN]D.l!TRu\\\\]PY3AmOX6tS(Nj9=Bq4/\\\\RuHr5D>hjLgSY$LgtEE$kfj\"aRb%/$Nn_?_)pl[N%%a`3QqQ)0[?.]C8Aj@;7dBoVE\"2<#3;;8*\"nP1,YZCN//\"\"\"eOX!Nf-c9umGk5XTb[C11nKHu:0W^XOaLO9F6>Vp!q\"Z+^\\'?=ifHtY\\'5.+iccqZp[ElSbJXNDu8k8%-lA_=S\\'rrB09KUZlms5iM\"0[i>E#$M*I1!<REoO[(O%]lfiihE\"3d%$#%2C#H%0l.W&4do+$GRUph]WTW$+&h+;hkS2U3EpoaieN3.:l\\'TJ&KnT(Kl=OX;1IC:;p*.V8\\\\L^,iY?B#ol$VKRH$/D0I<oqK.W\"BO:s<BI\\'2^0KA+J5@L=lC?d`m8*W;0!~>endstream\\nendobj\\n17 0 obj\\n<<\\n/Filter [ /ASCII85Decode /FlateDecode ] /Length 387\\n>>\\nstream\\nGappZh+e%q&;BTI.F)5\"g!jKb-@01/rktU,U[eJrYe+CJAd,W?D_Gq7R=p72b]aO>0Ma\"7[H`8IM5t7iE=H&</7o:2%A%,#?&68@jW(=j<GG:_I+3OBUbQj9/XDLS#pW34%%0<IeoLM6Mq:OU`[ZthBT;S=Xbo+/J6!\\\\LRm]5r<#H/,NX.kh>&k(njW:&4]eoiW@8.En9k@S:`tHh$\",.-(0??d[?\\\\UbE)7Fq6e*OBr#cIsrdg/\"0WD\\\\l2KbBXhnYk*jj?$1$DO!-dOfUuNqom_i+NM/C>FqCo-74EugCe;FN\\\\iapie+gp$8FQN18WR3mjr8>dimujIghM_+D+\\\\L3CsS+Ek5R651B)PVe+FlYMP`[#&ir/Q1R\"RWDNKoT=p8n~>endstream\\nendobj\\nxref\\n0 18\\n0000000000 65535 f \\n0000000073 00000 n \\n0000000114 00000 n \\n0000000221 00000 n \\n0000000333 00000 n \\n0000016079 00000 n \\n0000016337 00000 n \\n0000016532 00000 n \\n0000016727 00000 n \\n0000016922 00000 n \\n0000017117 00000 n \\n0000017187 00000 n \\n0000017484 00000 n \\n0000017568 00000 n \\n0000018842 00000 n \\n0000020560 00000 n \\n0000022261 00000 n \\n0000023844 00000 n \\ntrailer\\n<<\\n/ID \\n[<1197ecf96a94ece217d61e6768936f24><1197ecf96a94ece217d61e6768936f24>]\\n% ReportLab generated PDF document -- digest (http://www.reportlab.com)\\n\\n/Info 11 0 R\\n/Root 10 0 R\\n/Size 18\\n>>\\nstartxref\\n24322\\n%%EOF\\n'"
      ]
     },
     "execution_count": 59,
     "metadata": {},
     "output_type": "execute_result"
    }
   ],
   "source": [
    "#create_patient_report(patient_summary[0], patient_transcript, pdf_filename)"
   ]
  },
  {
   "cell_type": "markdown",
   "metadata": {},
   "source": [
    "## Generate PDFs & Summaries"
   ]
  },
  {
   "cell_type": "markdown",
   "metadata": {},
   "source": [
    "#### Generator Function"
   ]
  },
  {
   "cell_type": "code",
   "execution_count": 119,
   "metadata": {},
   "outputs": [],
   "source": [
    "def generate_everything(transcripts_path, summaries_path, pdfs_path, model=default_model, n_transcripts=20):\n",
    "    if not os.path.exists(pdfs_path):\n",
    "        # Create the directory if it doesn't exist\n",
    "        os.makedirs(pdfs_path)\n",
    "        print(f\"Directory '{pdfs_path}' created successfully.\")\n",
    "    else:\n",
    "        print(f\"Directory '{pdfs_path}' already exists.\")\n",
    "    \n",
    "    # Open and read the JSON file\n",
    "    with open(transcripts_path, 'r') as json_file:\n",
    "        patients = json.load(json_file)\n",
    "\n",
    "    summaries = {}\n",
    "    i=0\n",
    "\n",
    "    for p_id in patients:\n",
    "        if i < n_transcripts:\n",
    "            summary = {}\n",
    "\n",
    "            p_transcript = patients[p_id]['chat_transcript']\n",
    "\n",
    "            print(f\"Generating summary for patient {p_id}\")\n",
    "\n",
    "            p_summary = summarize(patient_transcript=p_transcript, model=model)\n",
    "\n",
    "            summary['id'] = p_id\n",
    "            \n",
    "            p_summary_output = p_summary[0]\n",
    "            p_summary_output_dict = p_summary_output.to_dict()\n",
    "\n",
    "            summary['summary'] = p_summary_output_dict\n",
    "\n",
    "            summaries[str(p_id)] = summary\n",
    "\n",
    "            print(\"Summary generation successful\")\n",
    "\n",
    "            print(f\"Generating PDF for patient {p_id}\")\n",
    "\n",
    "            first_underscore_pos = pdfs_path.find(\"_\")\n",
    "            experiment_name = pdfs_path[first_underscore_pos+1:-1]\n",
    "\n",
    "            pdf_filename = f\"{pdfs_path}patient_{p_id}_{experiment_name}.pdf\"\n",
    "\n",
    "            create_patient_report(p_summary[0], p_transcript, pdf_filename)\n",
    "\n",
    "            i+=1\n",
    "    \n",
    "        else:\n",
    "            break\n",
    "\n",
    "    print(f\"Summary and PDF generation complete\")\n",
    "    print()\n",
    "    print(f\"Saving all patient summaries in summary file\")\n",
    "\n",
    "    with open(summaries_path, 'w') as json_file:\n",
    "        json.dump(summaries, json_file)"
   ]
  },
  {
   "cell_type": "markdown",
   "metadata": {},
   "source": [
    "#### Transcripts 2\n",
    "- Naturally terminated transcripts\n",
    "- GPT3.5-turbo\n",
    "- Baseline patient prompt\n",
    "- Baseline doctor prompt"
   ]
  },
  {
   "cell_type": "code",
   "execution_count": 120,
   "metadata": {},
   "outputs": [],
   "source": [
    "TRANSCRIPTS_2_PATH = path_maker('transcripts', 'short', '3.5', 'base', 'base')\n",
    "TRANSCRIPTS_2_SUMMARIES_PATH = path_maker('summaries', 'short', '3.5', 'base', 'base')\n",
    "TRANSCRIPTS_2_PDF_PATH = path_maker('pdfs', 'short', '3.5', 'base', 'base')"
   ]
  },
  {
   "cell_type": "code",
   "execution_count": 121,
   "metadata": {},
   "outputs": [
    {
     "name": "stdout",
     "output_type": "stream",
     "text": [
      "Directory '../data/pdfs/pdfs_short_gpt3.5_basepat_basedoc/' already exists.\n",
      "Generating summary for patient 19597377\n",
      "Summary generation successful\n",
      "Generating PDF for patient 19597377\n",
      "Summary and PDF generation complete\n",
      "\n",
      "Saving all patient summaries in summary file\n"
     ]
    }
   ],
   "source": [
    "generate_everything(TRANSCRIPTS_2_PATH, TRANSCRIPTS_2_SUMMARIES_PATH, TRANSCRIPTS_2_PDF_PATH, model=default_model, n_transcripts=1)"
   ]
  },
  {
   "cell_type": "markdown",
   "metadata": {},
   "source": [
    "#### Transcripts 3\n",
    "- Naturally terminated transcripts\n",
    "- GPT4o-mini\n",
    "- Baseline patient prompt\n",
    "- Baseline doctor prompt"
   ]
  },
  {
   "cell_type": "code",
   "execution_count": 122,
   "metadata": {},
   "outputs": [],
   "source": [
    "TRANSCRIPTS_3_PATH = path_maker('transcripts', 'short', '4o-mini', 'base', 'base')\n",
    "TRANSCRIPTS_3_SUMMARIES_PATH = path_maker('summaries', 'short', '4o-mini', 'base', 'base')\n",
    "TRANSCRIPTS_3_PDF_PATH = path_maker('pdfs', 'short', '4o-mini', 'base', 'base')"
   ]
  },
  {
   "cell_type": "code",
   "execution_count": 123,
   "metadata": {},
   "outputs": [],
   "source": [
    "model_update = ChatOpenAI(temperature=0.0, model_name=\"gpt-4o-mini\")"
   ]
  },
  {
   "cell_type": "code",
   "execution_count": 124,
   "metadata": {},
   "outputs": [
    {
     "name": "stdout",
     "output_type": "stream",
     "text": [
      "Directory '../data/pdfs/pdfs_short_gpt4o-m_basepat_basedoc/' created successfully.\n",
      "Generating summary for patient 11280189\n",
      "Summary generation successful\n",
      "Generating PDF for patient 11280189\n",
      "Summary and PDF generation complete\n",
      "\n",
      "Saving all patient summaries in summary file\n"
     ]
    }
   ],
   "source": [
    "generate_everything(TRANSCRIPTS_3_PATH, TRANSCRIPTS_3_SUMMARIES_PATH, TRANSCRIPTS_3_PDF_PATH, model=model_update, n_transcripts=1)"
   ]
  },
  {
   "cell_type": "markdown",
   "metadata": {},
   "source": [
    "#### Transcripts 4\n",
    "\n",
    "- Naturally terminated transcripts\n",
    "- GPT4o\n",
    "- Baseline patient prompt\n",
    "- Baseline doctor prompt"
   ]
  },
  {
   "cell_type": "code",
   "execution_count": 125,
   "metadata": {},
   "outputs": [],
   "source": [
    "TRANSCRIPTS_4_PATH = path_maker('transcripts', 'short', '4o', 'base', 'base')\n",
    "TRANSCRIPTS_4_SUMMARIES_PATH = path_maker('summaries', 'short', '4o', 'base', 'base')\n",
    "TRANSCRIPTS_4_PDF_PATH = path_maker('pdfs', 'short', '4o', 'base', 'base')"
   ]
  },
  {
   "cell_type": "code",
   "execution_count": 126,
   "metadata": {},
   "outputs": [],
   "source": [
    "model_update = ChatOpenAI(temperature=0.0, model_name=\"gpt-4o\")"
   ]
  },
  {
   "cell_type": "code",
   "execution_count": 127,
   "metadata": {},
   "outputs": [
    {
     "name": "stdout",
     "output_type": "stream",
     "text": [
      "Directory '../data/pdfs/pdfs_short_gpt4o_basepat_basedoc/' created successfully.\n",
      "Generating summary for patient 17548402\n",
      "Summary generation successful\n",
      "Generating PDF for patient 17548402\n",
      "Summary and PDF generation complete\n",
      "\n",
      "Saving all patient summaries in summary file\n"
     ]
    }
   ],
   "source": [
    "generate_everything(TRANSCRIPTS_4_PATH, TRANSCRIPTS_4_SUMMARIES_PATH, TRANSCRIPTS_4_PDF_PATH, model=model_update, n_transcripts=1)"
   ]
  }
 ],
 "metadata": {
  "kernelspec": {
   "display_name": ".venv",
   "language": "python",
   "name": "python3"
  },
  "language_info": {
   "codemirror_mode": {
    "name": "ipython",
    "version": 3
   },
   "file_extension": ".py",
   "mimetype": "text/x-python",
   "name": "python",
   "nbconvert_exporter": "python",
   "pygments_lexer": "ipython3",
   "version": "3.11.7"
  }
 },
 "nbformat": 4,
 "nbformat_minor": 2
}
